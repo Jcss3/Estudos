{
  "cells": [
    {
      "cell_type": "markdown",
      "metadata": {
        "id": "IzO5Zko7ivDZ"
      },
      "source": [
        "# Instruções Gerais\n",
        "\n",
        "*   A atividade é **individual**. Cópias e plágios não serão tolerados\n",
        "*   Data de entrega: **02/11/2021, até as 23:59h**\n",
        "\n",
        "  * Apenas pelo **Classroom**\n",
        "  * Façam uma cópia do notebook, e trabalhem nela para a entrega até o prazo definido\n",
        "  * **Atentem para todos os pontos de `# TODO:`**, pois estes são os pontos de implementação\n",
        "* Sobre política de atrasos: \n",
        "  * cada aluno terá a **tolerância de 2 dias de atraso, considerado todos os exercícios** propostos. \n",
        "  * A partir do terceiro dia, 60% da nota obtida será computada. \n",
        "  * Do quarto dia em diante, não será atribuída nota alguma.\n",
        "\n"
      ]
    },
    {
      "cell_type": "markdown",
      "metadata": {
        "id": "YY0zw2HDRtA-"
      },
      "source": [
        "# Atividade: K-Means"
      ]
    },
    {
      "cell_type": "markdown",
      "metadata": {
        "id": "NbN7JV6beeqV"
      },
      "source": [
        "**Geração aleatória de dados iniciais**"
      ]
    },
    {
      "cell_type": "code",
      "execution_count": 63,
      "metadata": {
        "colab": {
          "base_uri": "https://localhost:8080/",
          "height": 282
        },
        "id": "ncq0VrkeekcS",
        "outputId": "0fc283c2-24a4-45ae-e556-527b807c1d86"
      },
      "outputs": [
        {
          "name": "stdout",
          "output_type": "stream",
          "text": [
            "[[ 8.36856841e-01  2.13635938e+00]\n",
            " [-1.41365810e+00  7.40962324e+00]\n",
            " [ 1.15521298e+00  5.09961887e+00]\n",
            " [-1.01861632e+00  7.81491465e+00]\n",
            " [ 1.27135141e+00  1.89254207e+00]\n",
            " [ 3.43761754e+00  2.61654166e-01]\n",
            " [-1.80822253e+00  1.59701749e+00]\n",
            " [ 1.41372442e+00  4.38117707e+00]\n",
            " [-2.04932168e-01  8.43209665e+00]\n",
            " [-7.11099611e-01  8.66043846e+00]\n",
            " [-1.71237268e+00  2.77780226e+00]\n",
            " [-2.67000792e+00  8.35389140e+00]\n",
            " [ 1.24258802e+00  4.50399192e+00]\n",
            " [-2.22783649e+00  6.89479938e+00]\n",
            " [ 1.45513831e+00 -2.91989981e-02]\n",
            " [ 4.53791789e-01  3.95647753e+00]\n",
            " [ 1.06923853e+00  4.53068484e+00]\n",
            " [ 2.56936589e+00  5.07048304e-01]\n",
            " [-1.06690610e+00  3.13165795e+00]\n",
            " [-1.07859101e+00  2.20451529e+00]\n",
            " [ 2.71506328e+00  1.29082190e+00]\n",
            " [ 1.77710994e+00  1.18655254e+00]\n",
            " [ 7.34363910e-01  5.03725437e+00]\n",
            " [-1.99648151e+00  2.85164868e+00]\n",
            " [-1.91828017e+00  2.60516867e+00]\n",
            " [-5.55523811e-01  4.69595848e+00]\n",
            " [ 1.69747910e+00  8.66123282e-01]\n",
            " [ 5.94762432e-01  4.70964730e+00]\n",
            " [-2.88024255e+00  2.30437816e+00]\n",
            " [ 1.86725632e-01  4.02683656e+00]\n",
            " [-5.13333436e-01  7.87437368e+00]\n",
            " [-2.05701103e+00  7.37851598e+00]\n",
            " [ 1.87271752e+00  4.18069237e+00]\n",
            " [-1.13121396e+00  6.76652230e+00]\n",
            " [-1.64428957e+00  7.94095139e+00]\n",
            " [-2.41933824e+00  7.43952498e+00]\n",
            " [-2.01606928e+00  7.48420129e+00]\n",
            " [-2.62142780e+00  7.98635066e+00]\n",
            " [-2.20299950e+00  2.47947561e+00]\n",
            " [ 1.66382237e+00  6.63091635e-01]\n",
            " [ 6.69786996e-01  3.59540802e+00]\n",
            " [-1.98539037e+00  2.05520738e+00]\n",
            " [-4.74920358e-02  5.47425256e+00]\n",
            " [ 1.54462126e+00  4.21078127e+00]\n",
            " [-1.70200643e+00  2.46098693e+00]\n",
            " [-1.02192525e+00  2.76820711e+00]\n",
            " [-1.37842552e+00  8.10269597e+00]\n",
            " [-1.55220688e+00  2.74574995e+00]\n",
            " [-1.47904303e+00  7.56915836e+00]\n",
            " [ 1.98894313e+00  1.50976729e+00]\n",
            " [-1.94972418e+00  3.48383870e+00]\n",
            " [ 2.45509737e+00  6.21231788e-01]\n",
            " [-8.94327882e-01  7.61714473e+00]\n",
            " [ 1.69687788e+00  7.54910622e-01]\n",
            " [ 1.75644805e+00  2.05538289e+00]\n",
            " [-1.11064012e+00  2.82213820e+00]\n",
            " [-4.15017659e-02  7.80870276e+00]\n",
            " [-1.14091533e+00  1.97550822e+00]\n",
            " [-1.80634968e+00  7.72830656e+00]\n",
            " [ 1.39263752e+00  9.28962707e-01]\n",
            " [-2.25698670e+00  7.30207720e+00]\n",
            " [ 5.71670482e-01  4.32288566e+00]\n",
            " [-1.54994580e+00  9.28293222e+00]\n",
            " [-1.03819212e+00  2.95323761e+00]\n",
            " [-2.10956676e+00  3.10677258e+00]\n",
            " [-1.18652985e+00  2.78427720e+00]\n",
            " [-2.45809975e+00  7.51178724e+00]\n",
            " [ 2.36960214e+00  9.50716912e-01]\n",
            " [-2.66676007e+00  7.84766052e+00]\n",
            " [-1.49720702e+00  3.21418433e+00]\n",
            " [ 1.32222457e+00  4.17880807e+00]\n",
            " [-4.87271301e-01  3.32858293e+00]\n",
            " [-1.03718771e+00  8.06300134e+00]\n",
            " [-1.60496819e+00  2.97425420e+00]\n",
            " [-1.50372568e+00  1.92385320e+00]\n",
            " [-7.85412206e-01  8.45312331e+00]\n",
            " [-1.75783190e+00  2.97449321e+00]\n",
            " [ 1.19008992e+00  4.72773123e+00]\n",
            " [ 2.14043942e+00  7.06066610e-01]\n",
            " [-1.03540116e+00  8.20559195e+00]\n",
            " [ 1.25471244e+00  8.96331565e-02]\n",
            " [ 5.95676822e-01  4.08614263e+00]\n",
            " [ 1.27955338e+00  1.05789418e+00]\n",
            " [ 1.72955064e+00  1.14729369e+00]\n",
            " [-9.49041610e-01  8.46424331e+00]\n",
            " [ 9.35325115e-01  5.33179296e+00]\n",
            " [ 2.36923352e+00  7.94735861e-01]\n",
            " [ 4.28576743e-01  4.97399710e+00]\n",
            " [-2.04758277e+00  6.65428520e+00]\n",
            " [-1.45672617e+00  7.48669893e+00]\n",
            " [ 5.29417185e-01  3.80792420e+00]\n",
            " [ 1.78194802e+00  9.08151155e-01]\n",
            " [-1.95575053e+00  8.61631686e+00]\n",
            " [-1.74572014e+00  3.01190457e+00]\n",
            " [-1.17979111e+00  3.12767494e+00]\n",
            " [ 1.16411070e+00  3.79132988e+00]\n",
            " [ 1.36155806e+00  1.36638252e+00]\n",
            " [ 2.60137487e+00  1.08799459e+00]\n",
            " [ 2.72396035e-01  5.46996004e+00]\n",
            " [-3.12240736e+00  3.28167398e+00]\n",
            " [-5.88085172e-01  8.61427320e+00]\n",
            " [ 1.66909648e+00 -4.36378231e-01]\n",
            " [-6.82774903e-01  7.67490317e+00]\n",
            " [ 2.36790645e+00  5.52190878e-01]\n",
            " [ 1.05241733e+00  4.54498095e+00]\n",
            " [ 2.22707373e+00  1.26296996e+00]\n",
            " [ 2.43934644e+00 -7.25099666e-02]\n",
            " [ 1.34471770e+00  4.85711133e+00]\n",
            " [-1.31454942e+00  6.83904013e+00]\n",
            " [ 9.82570091e-01  5.37530962e+00]\n",
            " [-1.06295223e+00  2.20755388e+00]\n",
            " [-1.60712495e+00  3.56452854e+00]\n",
            " [ 1.57322172e+00  4.83933793e-01]\n",
            " [-2.17851338e+00  8.08585131e+00]\n",
            " [ 1.83375842e+00  7.54036153e-01]\n",
            " [ 2.10616050e+00  3.49513189e+00]\n",
            " [-1.64338755e+00  7.52691964e+00]\n",
            " [ 1.10550448e+00  1.26389129e+00]\n",
            " [ 1.61152972e+00  1.82347242e+00]\n",
            " [ 4.59534668e-01  5.44982630e+00]\n",
            " [-5.38023054e-01  3.01641891e+00]\n",
            " [ 1.67841499e+00  6.09047389e-01]\n",
            " [-1.01214966e+00  3.60254338e+00]\n",
            " [ 1.34195197e+00  5.93573847e-01]\n",
            " [ 1.42811550e+00  1.62435083e+00]\n",
            " [ 2.04505527e+00  1.12515470e+00]\n",
            " [ 1.67280531e+00  6.59300571e-01]\n",
            " [-1.35863899e+00  2.32200809e+00]\n",
            " [ 1.13078931e+00  9.35620856e-01]\n",
            " [-1.73896306e+00  1.94799775e+00]\n",
            " [-3.40258925e-01  8.16733925e+00]\n",
            " [-1.63793622e+00  2.43329317e+00]\n",
            " [-1.68754414e+00  2.24107546e+00]\n",
            " [ 2.43040639e+00 -6.35709334e-02]\n",
            " [-1.37998039e+00  7.18503804e+00]\n",
            " [-1.25245465e+00  2.33911505e+00]\n",
            " [-2.39482483e+00  3.39806103e+00]\n",
            " [-2.09183352e+00  7.48142543e+00]\n",
            " [ 4.88382309e-01  3.26801777e+00]\n",
            " [-5.39428614e-01  7.45631776e+00]\n",
            " [-2.59201821e+00  8.07635945e+00]\n",
            " [-1.04656513e+00  2.96483837e+00]\n",
            " [ 1.25566754e+00  3.38204112e+00]\n",
            " [-1.62150422e+00  4.27191636e+00]\n",
            " [ 1.86922139e+00  5.44132083e+00]\n",
            " [-1.76404140e+00  2.22222995e+00]\n",
            " [-1.38181918e+00  7.28761248e+00]\n",
            " [ 7.93137001e-03  4.17614316e+00]\n",
            " [-1.10298500e+00  7.30222786e+00]\n",
            " [-1.79351372e+00  7.58086944e+00]\n",
            " [-1.51176949e+00  7.94426307e+00]\n",
            " [ 9.59360742e-01  4.56078645e+00]\n",
            " [-6.01337393e-01  6.29994922e+00]\n",
            " [ 2.24592863e-01  4.77028154e+00]\n",
            " [ 1.56724897e+00  1.78090633e-02]\n",
            " [-1.03395259e+00  2.92105785e+00]\n",
            " [-9.22268640e-01  8.09888579e+00]\n",
            " [-1.88609638e+00  2.24834407e+00]\n",
            " [ 1.86873582e+00  9.56103760e-01]\n",
            " [ 1.10123507e+00  4.88977075e+00]\n",
            " [-1.93213725e+00  8.30643453e+00]\n",
            " [ 6.70478769e-01  4.04094275e+00]\n",
            " [ 7.43873988e-01  4.12240568e+00]\n",
            " [ 1.64003761e+00  1.81948989e+00]\n",
            " [ 8.15468056e-01  4.78526116e+00]\n",
            " [-2.63274574e+00  2.63109786e+00]\n",
            " [-9.61076361e-01  1.27407596e+00]\n",
            " [ 2.13979079e-01  4.88542535e+00]\n",
            " [ 1.43472182e+00  1.30662037e+00]\n",
            " [ 1.21387411e+00  3.64795042e+00]\n",
            " [ 1.08272576e+00  4.06271877e+00]\n",
            " [-1.22605234e+00  8.29620146e+00]\n",
            " [ 1.48170052e+00  6.90074595e-01]\n",
            " [ 1.89593761e+00  5.18540259e+00]\n",
            " [-1.32356154e+00  4.13050840e+00]\n",
            " [-1.14989863e+00  7.89325283e+00]\n",
            " [ 2.46915842e+00  1.67877140e+00]\n",
            " [ 2.31102276e+00  1.30380848e+00]\n",
            " [ 5.72793810e-01  4.08805543e+00]\n",
            " [-9.67794989e-01  3.12186125e+00]\n",
            " [ 2.62492001e+00  9.50194405e-01]\n",
            " [ 1.68353782e+00  4.19583243e+00]\n",
            " [-2.22131717e+00  2.73050691e+00]\n",
            " [-1.57846247e+00  3.03445802e+00]\n",
            " [ 8.15155229e-02  4.56742235e+00]\n",
            " [ 1.43289271e+00  4.37679234e+00]\n",
            " [ 1.06269622e+00  5.17635143e+00]\n",
            " [ 7.67522789e-01  4.39759671e+00]\n",
            " [ 2.47019077e+00  1.31451315e+00]\n",
            " [-1.73163168e+00  7.16447286e+00]\n",
            " [ 3.47138300e-01  3.45177657e+00]\n",
            " [-1.00140436e+00  2.84881778e+00]\n",
            " [ 1.01618041e+00  4.48527047e+00]\n",
            " [ 5.59529363e-01  4.21400660e+00]\n",
            " [-2.11821046e+00  2.03478126e+00]\n",
            " [-1.36219420e+00  2.38333321e+00]\n",
            " [-2.78366586e+00  2.99211541e+00]\n",
            " [ 1.65225163e+00  3.65582842e+00]\n",
            " [-1.93960658e+00  2.18943582e+00]\n",
            " [-1.81487687e+00  7.97832190e+00]\n",
            " [ 1.20212540e+00  3.64414685e+00]\n",
            " [-9.69200946e-01  3.26721702e+00]\n",
            " [ 1.86985974e+00 -1.07938624e-01]\n",
            " [-1.80701134e+00  2.06773859e+00]\n",
            " [ 1.21767506e+00  3.89290127e+00]\n",
            " [-1.48368917e+00  6.00777418e+00]\n",
            " [-1.56387985e+00  2.85349910e+00]\n",
            " [-6.86210297e-01  8.68285664e+00]\n",
            " [ 1.07627418e+00  4.68480619e+00]\n",
            " [-9.75986627e-01  6.73761577e+00]\n",
            " [ 1.37964693e+00  4.54826443e+00]\n",
            " [-1.64129611e+00  2.68097255e+00]\n",
            " [-1.84892963e-03  4.58145668e+00]\n",
            " [ 1.71444449e+00  5.02521524e+00]\n",
            " [-1.40524304e+00  7.72611315e+00]\n",
            " [-7.08184904e-01  2.50421275e+00]\n",
            " [-8.85798374e-01  2.64585078e+00]\n",
            " [ 1.98436909e+00  4.89556738e-01]\n",
            " [ 2.95195825e+00 -3.44327355e-01]\n",
            " [ 4.31891060e-01  4.33495456e+00]\n",
            " [-1.86621694e+00  7.62549400e+00]\n",
            " [ 2.52706430e+00  6.17812202e-01]\n",
            " [ 2.04067185e+00  4.54845114e-01]\n",
            " [-2.58043836e+00  3.18844294e+00]\n",
            " [ 1.61990909e+00  6.76452867e-02]\n",
            " [-2.58802708e+00  3.13117134e+00]\n",
            " [ 4.43598630e-01  3.11530945e+00]\n",
            " [-4.56773649e-01  7.30600872e+00]\n",
            " [-1.12867566e+00  7.80509789e+00]\n",
            " [ 2.13003529e+00  5.19209620e+00]\n",
            " [ 1.00372519e+00  4.19147702e+00]\n",
            " [-1.39346767e+00  8.74641672e+00]\n",
            " [ 7.28098690e-01  3.85531444e+00]\n",
            " [ 8.93499638e-01  1.01093082e+00]\n",
            " [-1.10782972e+00  2.92014479e+00]\n",
            " [ 7.89338559e-01  4.33748653e+00]\n",
            " [ 1.97553917e+00  7.18989132e-01]\n",
            " [-1.24902582e+00  3.08533972e+00]\n",
            " [-1.07768797e+00  8.88106128e+00]\n",
            " [-1.86849125e+00  3.07982487e+00]\n",
            " [ 2.76808540e+00  1.08782923e+00]\n",
            " [ 2.77180174e-01  4.84428322e+00]\n",
            " [ 3.41085289e+00  8.72309369e-01]\n",
            " [-1.58084155e+00  7.55307742e+00]\n",
            " [-1.53027550e+00  7.70542113e+00]\n",
            " [-1.82455840e+00  7.35958960e+00]\n",
            " [-1.68568257e+00  7.95339446e+00]\n",
            " [-1.65104622e+00  3.44598961e+00]\n",
            " [-1.30440901e+00  3.00311934e+00]\n",
            " [-7.30698168e-01  6.24208856e+00]\n",
            " [ 2.40615694e+00  4.87047502e+00]\n",
            " [-1.53631328e+00  3.01443916e+00]\n",
            " [ 1.48859977e+00  6.51633844e-01]\n",
            " [ 5.14320434e-01  4.62733684e+00]\n",
            " [-1.81469750e+00  3.29009724e+00]\n",
            " [-1.93731055e+00  3.91361274e+00]\n",
            " [-6.14907097e-01  3.94963585e+00]\n",
            " [ 2.03169783e+00  1.96807561e-01]\n",
            " [ 2.14917144e+00  1.03697228e+00]\n",
            " [-1.36999388e+00  7.76953035e+00]\n",
            " [ 9.14338767e-01  4.55014643e+00]\n",
            " [ 3.33818506e-01  4.93645836e+00]\n",
            " [-2.15968109e+00  3.41003096e+00]\n",
            " [ 1.36678633e+00  6.34971633e-01]\n",
            " [-5.71099336e-01  8.13306058e+00]\n",
            " [-1.00552592e+00  3.08400540e+00]\n",
            " [ 1.49493180e+00  3.85848832e+00]\n",
            " [-5.90447667e-01  7.69493053e+00]\n",
            " [ 7.15177948e-01  5.41334556e+00]\n",
            " [ 2.11390250e+00  1.24743587e+00]\n",
            " [ 1.20083098e+00  6.01671730e-01]\n",
            " [-2.54576750e+00  3.15025055e+00]\n",
            " [-1.95866665e+00  2.43008647e+00]\n",
            " [ 2.33812285e+00  3.43116792e+00]\n",
            " [ 3.35320909e+00  1.69958043e+00]\n",
            " [ 1.84287117e+00  7.26928839e-02]\n",
            " [ 1.32000621e+00  1.40428145e+00]\n",
            " [ 2.09680545e+00  4.84741412e+00]\n",
            " [-1.24307904e+00  8.15166254e+00]\n",
            " [-1.85908090e+00  7.78874716e+00]\n",
            " [ 2.74666646e+00  1.54543482e+00]\n",
            " [ 2.60778282e+00  1.08890025e+00]\n",
            " [ 1.65991049e+00  3.56289184e+00]\n",
            " [ 2.35151259e+00  8.28001297e-01]\n",
            " [ 2.22322228e+00  8.38773426e-01]\n",
            " [ 3.22881491e+00  1.13171965e+00]\n",
            " [-1.55876720e+00  7.24816210e+00]\n",
            " [-6.46956784e-01  3.42941343e+00]\n",
            " [-1.32688818e+00  8.51530794e+00]\n",
            " [ 9.17198564e-01  3.90570036e+00]\n",
            " [ 2.29469533e+00 -7.65891994e-01]\n",
            " [ 1.81559810e+00  1.11969719e+00]\n",
            " [-1.12016775e+00  7.11031582e+00]\n",
            " [-1.65507124e+00  8.61416749e+00]\n",
            " [-1.27567815e+00  7.96776461e+00]\n",
            " [ 1.97369770e+00  1.57979848e+00]\n",
            " [ 2.51834185e+00  1.39176615e+00]\n",
            " [ 4.38990142e-01  4.53592883e+00]\n",
            " [ 3.69478657e-01  7.79110522e+00]\n",
            " [-1.79145759e+00  2.74966896e+00]]\n"
          ]
        },
        {
          "data": {
            "text/plain": [
              "<matplotlib.collections.PathCollection at 0x7f51fefadee0>"
            ]
          },
          "execution_count": 63,
          "metadata": {},
          "output_type": "execute_result"
        },
        {
          "data": {
            "image/png": "[encoded data removed]",
            "text/plain": [
              "<Figure size 432x288 with 1 Axes>"
            ]
          },
          "metadata": {
            "needs_background": "light"
          },
          "output_type": "display_data"
        }
      ],
      "source": [
        "%matplotlib inline\n",
        "import matplotlib.pyplot as plt\n",
        "import seaborn as sns\n",
        "import numpy as np\n",
        "\n",
        "from sklearn.datasets import make_blobs\n",
        "\n",
        "X, y = make_blobs(n_samples=300, centers=4,\n",
        "                       cluster_std=0.60, random_state=0)\n",
        "print(X)\n",
        "plt.scatter(X[:, 0], X[:, 1], c=y, s=50, cmap='viridis')\n"
      ]
    },
    {
      "cell_type": "markdown",
      "metadata": {
        "id": "k8KdXOCzfGQD"
      },
      "source": [
        "**Implementação**\n",
        "\n",
        "**TODO:** Implemente o algoritmo do k-means e o pipeline de treinamento e teste para os dados iniciais"
      ]
    },
    {
      "cell_type": "code",
      "execution_count": 43,
      "metadata": {
        "id": "xz-5TD4-fGm9"
      },
      "outputs": [
        {
          "name": "stdout",
          "output_type": "stream",
          "text": [
            "(300, 2)\n",
            "[2 1 0 1 2 2 3 0 1 1 3 1 0 1 2 0 0 2 3 3 2 2 0 3 3 0 2 0 3 0 1 1 0 1 1 1 1\n",
            " 1 3 2 0 3 0 0 3 3 1 3 1 2 3 2 1 2 2 3 1 3 1 2 1 0 1 3 3 3 1 2 1 3 0 3 1 3\n",
            " 3 1 3 0 2 1 2 0 2 2 1 0 2 0 1 1 0 2 1 3 3 0 2 2 0 3 1 2 1 2 0 2 2 0 1 0 3\n",
            " 3 2 1 2 0 1 2 2 0 3 2 3 2 2 2 2 3 2 3 1 3 3 2 1 3 3 1 0 1 1 3 0 3 0 3 1 0\n",
            " 1 1 1 0 1 0 2 3 1 3 2 0 1 0 0 2 0 3 3 0 2 0 0 1 2 0 3 1 2 2 0 3 2 0 3 3 0\n",
            " 0 0 0 2 1 0 3 0 0 3 3 3 0 3 1 0 3 2 3 0 1 3 1 0 1 0 3 0 0 1 3 3 2 2 0 1 2\n",
            " 2 3 2 3 0 1 1 0 0 1 0 2 3 0 2 3 1 3 2 0 2 1 1 1 1 3 3 1 0 3 2 0 3 3 3 2 2\n",
            " 1 0 0 3 2 1 3 0 1 0 2 2 3 3 0 2 2 2 0 1 1 2 2 0 2 2 2 1 3 1 0 2 2 1 1 1 2\n",
            " 2 0 1 3]\n",
            "[[ 0.94973532  4.41906906]\n",
            " [-1.37324398  7.75368871]\n",
            " [ 1.98258281  0.86771314]\n",
            " [-1.58438467  2.83081263]]\n"
          ]
        }
      ],
      "source": [
        "from sklearn.cluster import KMeans\n",
        "print(X.shape)\n",
        "number_clusters = 4\n",
        "kmeans = KMeans(n_clusters = number_clusters, #numero de clusters\n",
        "                init = 'k-means++',\n",
        "                n_init = 10, #algoritmo que define a posição dos clusters de maneira mais assertiva\n",
        "                max_iter = 300\n",
        ")\n",
        "pred_y = kmeans.fit_predict(X)\n",
        "\n",
        "print(pred_y)\n",
        "print(kmeans.cluster_centers_)"
      ]
    },
    {
      "cell_type": "code",
      "execution_count": 44,
      "metadata": {},
      "outputs": [
        {
          "data": {
            "text/plain": [
              "array([2, 1, 0, 1, 2, 2, 3, 0, 1, 1, 3, 1, 0, 1, 2, 0, 0, 2, 3, 3, 2, 2,\n",
              "       0, 3, 3, 0, 2, 0, 3, 0, 1, 1, 0, 1, 1, 1, 1, 1, 3, 2, 0, 3, 0, 0,\n",
              "       3, 3, 1, 3, 1, 2, 3, 2, 1, 2, 2, 3, 1, 3, 1, 2, 1, 0, 1, 3, 3, 3,\n",
              "       1, 2, 1, 3, 0, 3, 1, 3, 3, 1, 3, 0, 2, 1, 2, 0, 2, 2, 1, 0, 2, 0,\n",
              "       1, 1, 0, 2, 1, 3, 3, 0, 2, 2, 0, 3, 1, 2, 1, 2, 0, 2, 2, 0, 1, 0,\n",
              "       3, 3, 2, 1, 2, 0, 1, 2, 2, 0, 3, 2, 3, 2, 2, 2, 2, 3, 2, 3, 1, 3,\n",
              "       3, 2, 1, 3, 3, 1, 0, 1, 1, 3, 0, 3, 0, 3, 1, 0, 1, 1, 1, 0, 1, 0,\n",
              "       2, 3, 1, 3, 2, 0, 1, 0, 0, 2, 0, 3, 3, 0, 2, 0, 0, 1, 2, 0, 3, 1,\n",
              "       2, 2, 0, 3, 2, 0, 3, 3, 0, 0, 0, 0, 2, 1, 0, 3, 0, 0, 3, 3, 3, 0,\n",
              "       3, 1, 0, 3, 2, 3, 0, 1, 3, 1, 0, 1, 0, 3, 0, 0, 1, 3, 3, 2, 2, 0,\n",
              "       1, 2, 2, 3, 2, 3, 0, 1, 1, 0, 0, 1, 0, 2, 3, 0, 2, 3, 1, 3, 2, 0,\n",
              "       2, 1, 1, 1, 1, 3, 3, 1, 0, 3, 2, 0, 3, 3, 3, 2, 2, 1, 0, 0, 3, 2,\n",
              "       1, 3, 0, 1, 0, 2, 2, 3, 3, 0, 2, 2, 2, 0, 1, 1, 2, 2, 0, 2, 2, 2,\n",
              "       1, 3, 1, 0, 2, 2, 1, 1, 1, 2, 2, 0, 1, 3], dtype=int32)"
            ]
          },
          "execution_count": 44,
          "metadata": {},
          "output_type": "execute_result"
        }
      ],
      "source": [
        "kmeans.labels_"
      ]
    },
    {
      "cell_type": "code",
      "execution_count": 24,
      "metadata": {},
      "outputs": [],
      "source": [
        "# kmeans.score(X,y)"
      ]
    },
    {
      "cell_type": "markdown",
      "metadata": {
        "id": "kdPMjmm_fvVK"
      },
      "source": [
        "**TODO:** Faça um novo *plot* os dados, considerando:\n",
        "\n",
        "*   A utilização dos grupos preditos pelo algoritmo como referência (mudança no parâmetro `c` do `plt.scatter`)\n",
        "*   O plot dos centroides sobre os dados\n",
        "\n"
      ]
    },
    {
      "cell_type": "code",
      "execution_count": 46,
      "metadata": {
        "id": "QkhcE8Lef9Ey"
      },
      "outputs": [
        {
          "data": {
            "image/png": "[encoded data removed]",
            "text/plain": [
              "<Figure size 432x288 with 1 Axes>"
            ]
          },
          "metadata": {
            "needs_background": "light"
          },
          "output_type": "display_data"
        }
      ],
      "source": [
        "plt.scatter(X[:,1], X[:,0], c = pred_y) #posicionamento dos eixos x e y\n",
        "# plt.xlim(-75, -30) #range do eixo x\n",
        "# plt.ylim(-50, 10) #range do eixo y\n",
        "plt.grid() #função que desenha a grade no nosso gráfico\n",
        "plt.scatter(kmeans.cluster_centers_[:,1],kmeans.cluster_centers_[:,0], s = 70, c = 'red') #posição de cada centroide no gráfico\n",
        "plt.show()"
      ]
    },
    {
      "cell_type": "markdown",
      "metadata": {
        "id": "VTz71UI9gqDJ"
      },
      "source": [
        "**Aplicação**\n",
        "\n",
        "Agora, utilize o algoritmo implementado no dataset `digits`"
      ]
    },
    {
      "cell_type": "markdown",
      "metadata": {
        "id": "EHmCwXmxg3VR"
      },
      "source": [
        "`load_digits`"
      ]
    },
    {
      "cell_type": "code",
      "execution_count": 65,
      "metadata": {
        "id": "DZp2BbOeg3yG"
      },
      "outputs": [
        {
          "name": "stdout",
          "output_type": "stream",
          "text": [
            "[[ 0.  0.  5. ...  0.  0.  0.]\n",
            " [ 0.  0.  0. ... 10.  0.  0.]\n",
            " [ 0.  0.  0. ... 16.  9.  0.]\n",
            " ...\n",
            " [ 0.  0.  1. ...  6.  0.  0.]\n",
            " [ 0.  0.  2. ... 12.  0.  0.]\n",
            " [ 0.  0. 10. ... 12.  1.  0.]]\n",
            "[0 1 2 ... 8 9 8]\n"
          ]
        },
        {
          "ename": "IndexError",
          "evalue": "too many indices for array: array is 1-dimensional, but 2 were indexed",
          "output_type": "error",
          "traceback": [
            "\u001b[0;31m---------------------------------------------------------------------------\u001b[0m",
            "\u001b[0;31mIndexError\u001b[0m                                Traceback (most recent call last)",
            "\u001b[0;32m/tmp/ipykernel_30762/2712625689.py\u001b[0m in \u001b[0;36m<module>\u001b[0;34m\u001b[0m\n\u001b[1;32m      8\u001b[0m \u001b[0mtarget\u001b[0m \u001b[0;34m=\u001b[0m \u001b[0mdigits\u001b[0m\u001b[0;34m.\u001b[0m\u001b[0mtarget\u001b[0m\u001b[0;34m\u001b[0m\u001b[0;34m\u001b[0m\u001b[0m\n\u001b[1;32m      9\u001b[0m \u001b[0;34m\u001b[0m\u001b[0m\n\u001b[0;32m---> 10\u001b[0;31m \u001b[0mplt\u001b[0m\u001b[0;34m.\u001b[0m\u001b[0mscatter\u001b[0m\u001b[0;34m(\u001b[0m\u001b[0mdata\u001b[0m\u001b[0;34m[\u001b[0m\u001b[0;34m:\u001b[0m\u001b[0;34m,\u001b[0m \u001b[0;36m0\u001b[0m\u001b[0;34m]\u001b[0m\u001b[0;34m,\u001b[0m \u001b[0mtarget\u001b[0m\u001b[0;34m[\u001b[0m\u001b[0;34m:\u001b[0m\u001b[0;34m,\u001b[0m \u001b[0;36m1\u001b[0m\u001b[0;34m]\u001b[0m\u001b[0;34m,\u001b[0m \u001b[0mc\u001b[0m\u001b[0;34m=\u001b[0m\u001b[0my\u001b[0m\u001b[0;34m,\u001b[0m \u001b[0ms\u001b[0m\u001b[0;34m=\u001b[0m\u001b[0;36m50\u001b[0m\u001b[0;34m,\u001b[0m \u001b[0mcmap\u001b[0m\u001b[0;34m=\u001b[0m\u001b[0;34m'viridis'\u001b[0m\u001b[0;34m)\u001b[0m\u001b[0;34m\u001b[0m\u001b[0;34m\u001b[0m\u001b[0m\n\u001b[0m",
            "\u001b[0;31mIndexError\u001b[0m: too many indices for array: array is 1-dimensional, but 2 were indexed"
          ]
        }
      ],
      "source": [
        "from sklearn.datasets import load_digits\n",
        "import pandas as pd\n",
        "digits = load_digits()\n",
        "print(digits.data)\n",
        "print(digits.target)\n",
        "\n",
        "data = digits.data\n",
        "target = digits.target\n",
        "\n",
        "plt.scatter(data[:, 0], c=y, s=50, cmap='viridis')"
      ]
    },
    {
      "cell_type": "markdown",
      "metadata": {
        "id": "pRlHcVoog4Y8"
      },
      "source": [
        "**TODO:** treine o modelo para o dataset digits"
      ]
    },
    {
      "cell_type": "code",
      "execution_count": 58,
      "metadata": {
        "id": "nEY256SYg5wt"
      },
      "outputs": [
        {
          "name": "stdout",
          "output_type": "stream",
          "text": [
            "(1797, 64)\n",
            "[2 3 3 ... 3 0 0]\n",
            "[[ 0.00000000e+00  3.18996416e-01  6.56272401e+00  1.17849462e+01\n",
            "   1.24659498e+01  7.69175627e+00  1.47670251e+00  4.30107527e-02\n",
            "   5.37634409e-03  2.72043011e+00  1.18673835e+01  9.46415771e+00\n",
            "   1.03888889e+01  1.07795699e+01  2.11648746e+00  4.48028674e-02\n",
            "   1.79211470e-03  3.10394265e+00  9.35125448e+00  5.58602151e+00\n",
            "   8.87813620e+00  1.00591398e+01  1.69175627e+00  1.43369176e-02\n",
            "  -6.50521303e-19  2.05017921e+00  7.94265233e+00  1.10197133e+01\n",
            "   1.33745520e+01  9.86738351e+00  1.58064516e+00 -1.30104261e-18\n",
            "   0.00000000e+00  5.28673835e-01  3.27419355e+00  5.78136201e+00\n",
            "   9.37275986e+00  1.18082437e+01  2.98387097e+00  0.00000000e+00\n",
            "  -5.20417043e-18  3.44086022e-01  1.85125448e+00  1.29749104e+00\n",
            "   4.23835125e+00  1.19283154e+01  5.15412186e+00  8.96057348e-03\n",
            "  -1.73472348e-18  7.18637993e-01  6.58781362e+00  5.58960573e+00\n",
            "   7.71863799e+00  1.25537634e+01  5.03763441e+00  1.54121864e-01\n",
            "  -3.25260652e-19  2.70609319e-01  6.83691756e+00  1.25358423e+01\n",
            "   1.36057348e+01  9.15770609e+00  2.08960573e+00  4.06810036e-01]\n",
            " [ 0.00000000e+00  5.29839884e-01  6.73508006e+00  1.30276565e+01\n",
            "   1.20946143e+01  6.98398836e+00  2.24017467e+00  2.88209607e-01\n",
            "   1.01892285e-02  2.75545852e+00  1.14075691e+01  1.25749636e+01\n",
            "   1.13813683e+01  8.84861718e+00  2.54002911e+00  1.60116448e-01\n",
            "   5.82241630e-03  2.93449782e+00  8.46870451e+00  6.65065502e+00\n",
            "   9.29985444e+00  7.66812227e+00  1.39010189e+00  2.76564774e-02\n",
            "   2.91120815e-03  1.60698690e+00  6.45123726e+00  9.61572052e+00\n",
            "   1.21033479e+01  6.08879185e+00  1.50946143e+00  1.45560408e-03\n",
            "   0.00000000e+00  9.54876274e-01  6.44250364e+00  1.25866084e+01\n",
            "   1.25371179e+01  4.49053857e+00  1.18195051e+00  0.00000000e+00\n",
            "  -1.38777878e-17  7.99126638e-01  6.11644833e+00  1.13275109e+01\n",
            "   1.07743814e+01  3.16011645e+00  4.13391557e-01  2.91120815e-03\n",
            "   4.36681223e-03  7.16157205e-01  7.29985444e+00  1.24235808e+01\n",
            "   1.03726346e+01  4.77729258e+00  1.95778748e+00  1.93595342e-01\n",
            "   1.45560408e-03  5.03639010e-01  7.36826783e+00  1.28820961e+01\n",
            "   8.87627365e+00  4.58515284e+00  2.29257642e+00  5.34206696e-01]\n",
            " [ 0.00000000e+00  2.24719101e-02  4.25280899e+00  1.31235955e+01\n",
            "   1.12640449e+01  2.94943820e+00  3.37078652e-02 -5.55111512e-17\n",
            "   2.60208521e-18  8.87640449e-01  1.26573034e+01  1.33539326e+01\n",
            "   1.13932584e+01  1.13932584e+01  9.66292135e-01 -1.38777878e-17\n",
            "   1.30104261e-18  3.74719101e+00  1.42134831e+01  5.19662921e+00\n",
            "   2.11235955e+00  1.21235955e+01  3.55056180e+00 -6.93889390e-18\n",
            "  -4.33680869e-19  5.32584270e+00  1.26235955e+01  1.96067416e+00\n",
            "   2.30337079e-01  9.05056180e+00  6.50561798e+00 -8.67361738e-19\n",
            "   0.00000000e+00  5.91011236e+00  1.14662921e+01  8.14606742e-01\n",
            "   3.37078652e-02  8.78089888e+00  7.17977528e+00  0.00000000e+00\n",
            "  -3.46944695e-18  3.53370787e+00  1.32752809e+01  1.59550562e+00\n",
            "   1.48314607e+00  1.13314607e+01  5.85955056e+00  3.46944695e-18\n",
            "   8.67361738e-19  8.08988764e-01  1.31348315e+01  9.92696629e+00\n",
            "   1.03202247e+01  1.32865169e+01  2.48876404e+00  2.24719101e-02\n",
            "  -2.16840434e-19  5.61797753e-03  4.21910112e+00  1.35898876e+01\n",
            "   1.33258427e+01  5.46629213e+00  3.20224719e-01  1.68539326e-02]\n",
            " [ 0.00000000e+00  2.22044605e-16  8.20855615e-01  9.10962567e+00\n",
            "   1.07513369e+01  2.07219251e+00  2.11229947e-01  2.94117647e-02\n",
            "   2.60208521e-18  3.74331551e-02  5.20053476e+00  1.39839572e+01\n",
            "   7.56149733e+00  1.52406417e+00  5.88235294e-01  1.57754011e-01\n",
            "   1.30104261e-18  6.95187166e-01  1.13101604e+01  1.05748663e+01\n",
            "   2.77005348e+00  2.64438503e+00  1.82620321e+00  1.68449198e-01\n",
            "   6.50521303e-19  3.32085561e+00  1.39732620e+01  7.34759358e+00\n",
            "   5.40106952e+00  6.06951872e+00  2.90909091e+00  8.02139037e-03\n",
            "   0.00000000e+00  5.88502674e+00  1.46631016e+01  1.14545455e+01\n",
            "   1.24679144e+01  1.19679144e+01  3.93850267e+00  0.00000000e+00\n",
            "   4.27807487e-02  3.94652406e+00  1.27486631e+01  1.12272727e+01\n",
            "   1.00427807e+01  1.05802139e+01  5.36898396e+00  1.12299465e-01\n",
            "   2.67379679e-02  6.12299465e-01  6.58021390e+00  9.94919786e+00\n",
            "   9.76203209e+00  8.25401070e+00  5.60160428e+00  3.95721925e-01\n",
            "   3.25260652e-19  1.06951872e-02  9.59893048e-01  9.25133690e+00\n",
            "   1.37941176e+01  7.81283422e+00  2.45454545e+00  1.55080214e-01]]\n"
          ]
        }
      ],
      "source": [
        "print(digits.data.shape)\n",
        "number_clusters = 4\n",
        "kmeans2 = KMeans(n_clusters = number_clusters, #numero de clusters\n",
        "                init = 'k-means++',\n",
        "                n_init = 10, #algoritmo que define a posição dos clusters de maneira mais assertiva\n",
        "                max_iter = 300\n",
        ")\n",
        "pred_y2 = kmeans2.fit_predict(data)\n",
        "\n",
        "print(pred_y)\n",
        "print(kmeans2.cluster_centers_)"
      ]
    },
    {
      "cell_type": "markdown",
      "metadata": {
        "id": "eM1L05mMg6PP"
      },
      "source": [
        "**TODO:** Faça o *plot* dos centroides obtidos pelo algortimo"
      ]
    },
    {
      "cell_type": "code",
      "execution_count": 62,
      "metadata": {
        "id": "Dhh2ohAtg6xH"
      },
      "outputs": [
        {
          "data": {
            "image/png": "[encoded data removed]",
            "text/plain": [
              "<Figure size 432x288 with 1 Axes>"
            ]
          },
          "metadata": {
            "needs_background": "light"
          },
          "output_type": "display_data"
        }
      ],
      "source": [
        "plt.scatter(data[:,0], data[:,1], c = pred_y2) #posicionamento dos eixos x e y\n",
        "# plt.xlim(-75, -30) #range do eixo x\n",
        "# plt.ylim(-50, 10) #range do eixo y\n",
        "plt.grid() #função que desenha a grade no nosso gráfico\n",
        "plt.scatter(kmeans2.cluster_centers_[:,0],kmeans2.cluster_centers_[:,1], s = 70, c = 'red') #posição de cada centroide no gráfico\n",
        "plt.show()"
      ]
    }
  ],
  "metadata": {
    "colab": {
      "collapsed_sections": [],
      "name": "kmeans.ipynb",
      "provenance": []
    },
    "interpreter": {
      "hash": "caf41d7b08f9c998ada65f8ec7fd76b4a433a2b93f0adc9b9e232b55e3911f7d"
    },
    "kernelspec": {
      "display_name": "Python 3.8.10 64-bit ('myvenv': venv)",
      "name": "python3"
    },
    "language_info": {
      "codemirror_mode": {
        "name": "ipython",
        "version": 3
      },
      "file_extension": ".py",
      "mimetype": "text/x-python",
      "name": "python",
      "nbconvert_exporter": "python",
      "pygments_lexer": "ipython3",
      "version": "3.8.10"
    }
  },
  "nbformat": 4,
  "nbformat_minor": 0
}

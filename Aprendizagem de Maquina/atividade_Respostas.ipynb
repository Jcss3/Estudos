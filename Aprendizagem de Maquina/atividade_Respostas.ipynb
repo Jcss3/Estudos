{
 "cells": [
  {
   "cell_type": "markdown",
   "metadata": {
    "id": "IzO5Zko7ivDZ"
   },
   "source": [
    "# Instruções Gerais\n",
    "\n",
    "*   A atividade é **individual**. Cópias e plágios não serão tolerados. Caso seja identificado, **nota zero** será atribuída à todos os envolvidos.\n",
    "*   Data de entrega: **21/10/2021, até as 23:59h**\n",
    "\n",
    "  * Apenas pelo **Classroom**\n",
    "  * Façam uma cópia do notebook, e trabalhem nela para a entrega até o prazo definido\n",
    "  * **Atentem para todos os pontos de `# TODO:`**, pois estes são os pontos de implementação\n",
    "* Sobre política de atrasos: \n",
    "  * cada aluno terá a **tolerância de 2 dias de atraso, considerado todos os exercícios** propostos. \n",
    "  * A partir do terceiro dia, 60% da nota obtida será computada. \n",
    "  * Do quarto dia em diante, não será atribuída nota alguma.\n",
    "\n"
   ]
  },
  {
   "cell_type": "markdown",
   "metadata": {
    "id": "w7nx5rTPTClR"
   },
   "source": [
    "# Imports iniciais"
   ]
  },
  {
   "cell_type": "code",
   "execution_count": 24,
   "metadata": {
    "id": "_M9ho_SjKNat"
   },
   "outputs": [],
   "source": [
    "%matplotlib inline\n",
    "import matplotlib.pyplot as plt\n",
    "import numpy as np\n",
    "from sklearn import metrics"
   ]
  },
  {
   "cell_type": "markdown",
   "metadata": {
    "id": "bh-8EdhtENPh"
   },
   "source": [
    "# Definição de um model simples para testes usando sklearn"
   ]
  },
  {
   "cell_type": "code",
   "execution_count": 25,
   "metadata": {
    "id": "B7zz6iS8EUOk"
   },
   "outputs": [],
   "source": [
    "from sklearn.neighbors import KNeighborsClassifier\n",
    "model = KNeighborsClassifier(n_neighbors=3)"
   ]
  },
  {
   "cell_type": "markdown",
   "metadata": {
    "id": "Bx64mbsTpc4d"
   },
   "source": [
    "# Carregando e Divisão de Dados"
   ]
  },
  {
   "cell_type": "code",
   "execution_count": 26,
   "metadata": {
    "id": "HxCyVPOqj6kK"
   },
   "outputs": [],
   "source": [
    "from sklearn.datasets import load_iris\n",
    "iris = load_iris()\n",
    "x = iris.data\n",
    "y = iris.target"
   ]
  },
  {
   "cell_type": "markdown",
   "metadata": {
    "id": "Dn8yxkXCp5NY"
   },
   "source": [
    "## Validação cruzada"
   ]
  },
  {
   "cell_type": "markdown",
   "metadata": {
    "id": "qjOzdgFVDetm"
   },
   "source": [
    "### Holdout"
   ]
  },
  {
   "cell_type": "code",
   "execution_count": 27,
   "metadata": {
    "id": "MI7YbfvEqQRI"
   },
   "outputs": [
    {
     "name": "stdout",
     "output_type": "stream",
     "text": [
      "##################################################\n",
      "Exemplos de Dados\n",
      "##################################################\n",
      "X1 - Train Features: \n",
      " [[5.4 3.9 1.7 0.4]\n",
      " [6.1 3.  4.9 1.8]\n",
      " [6.7 3.1 5.6 2.4]]\n",
      "X1 - Shape (Linhas X Colunas): (105, 4)\n",
      "##################################################\n",
      "y1 - Train Target: \n",
      " [0 2 2]\n",
      "y1 - Shape (Linhas X Colunas): (105,)\n",
      "##################################################\n",
      "X2 - Test Features: \n",
      " [[5.8 2.7 5.1 1.9]\n",
      " [5.  2.  3.5 1. ]\n",
      " [5.7 3.  4.2 1.2]]\n",
      "X2 - Shape (Linhas X Colunas): (45, 4)\n",
      "##################################################\n",
      "y2 - Test Target: \n",
      " [2 1 1]\n",
      "y2 - Shape (Linhas X Colunas): (45,)\n",
      "##################################################\n",
      "ACC TRAINING: 0.9714285714285714\n",
      "ACC TEST: 0.9555555555555556\n",
      "##################################################\n",
      "Outras Metricas\n",
      "              precision    recall  f1-score   support\n",
      "\n",
      "           0       1.00      1.00      1.00        13\n",
      "           1       0.93      0.93      0.93        14\n",
      "           2       0.94      0.94      0.94        18\n",
      "\n",
      "    accuracy                           0.96        45\n",
      "   macro avg       0.96      0.96      0.96        45\n",
      "weighted avg       0.96      0.96      0.96        45\n",
      "\n",
      "##################################################\n"
     ]
    },
    {
     "data": {
      "text/plain": [
       "Text(91.68, 0.5, 'predicted label')"
      ]
     },
     "execution_count": 27,
     "metadata": {},
     "output_type": "execute_result"
    },
    {
     "data": {
      "image/png": "[encoded data removed]",
      "text/plain": [
       "<Figure size 432x288 with 1 Axes>"
      ]
     },
     "metadata": {
      "needs_background": "light"
     },
     "output_type": "display_data"
    }
   ],
   "source": [
    "# defina a separação dos dados (X, y) utilizando 70% para treino e 30% para teste\n",
    "from sklearn.model_selection import train_test_split\n",
    "from sklearn.metrics import accuracy_score\n",
    "\n",
    "# Separando os dados em teste/train holding out 30% = 0.3 of the data for testing\n",
    "X1, X2, y1, y2 = train_test_split(x,y,test_size=0.3) # TODO\n",
    "\n",
    "# vizualizar amostras dos dados\n",
    "print('#'*50)\n",
    "print('Exemplos de Dados')\n",
    "print('#'*50)\n",
    "print('X1 - Train Features: \\n',X1[:3])\n",
    "print(f'X1 - Shape (Linhas X Colunas): {X1.shape}')\n",
    "print('#'*50)\n",
    "print('y1 - Train Target: \\n',y1[:3])\n",
    "print(f'y1 - Shape (Linhas X Colunas): {y1.shape}')\n",
    "print('#'*50)\n",
    "print('X2 - Test Features: \\n',X2[:3])\n",
    "print(f'X2 - Shape (Linhas X Colunas): {X2.shape}')\n",
    "print('#'*50)\n",
    "print('y2 - Test Target: \\n',y2[:3])\n",
    "print(f'y2 - Shape (Linhas X Colunas): {y2.shape}')\n",
    "print('#'*50)\n",
    "\n",
    "# TODO: treine e avalie o modelo com os dados separados\n",
    "\n",
    "# treine com os valores de treinameto\n",
    "model.fit(X1,y1)\n",
    "\n",
    "# Predizer valores apartir das features de teste/train\n",
    "predicaoTrain = model.predict(X1)\n",
    "predicaoTeste = model.predict(X2)\n",
    "\n",
    "# Calcular acuracia com a função score\n",
    "#acuraciaTrain = model.score(X1,y1)\n",
    "#acuraciaTeste = model.score(X2,y2)\n",
    "## Accuracia no treinamento e no teste\n",
    "#print(f\"ACC TRAINING: {acuraciaTrain}\")\n",
    "#print(f\"ACC TEST: {acuraciaTeste}\")\n",
    "#print('#'*50)\n",
    "\n",
    "# Calcular acuracia apartir das predições com a função accuracy_score\n",
    "acc_train = accuracy_score(y1, predicaoTrain)\n",
    "acc_test = accuracy_score(y2, predicaoTeste)\n",
    "\n",
    "\n",
    "# Accuracia no treinamento e no teste\n",
    "print(f\"ACC TRAINING: {acc_train}\")\n",
    "print(f\"ACC TEST: {acc_test}\")\n",
    "print('#'*50)\n",
    "\n",
    "# Outras metricas\n",
    "from sklearn.metrics import classification_report\n",
    "print(f\"Outras Metricas\")\n",
    "print(classification_report(y2, predicaoTeste))\n",
    "print('#'*50)\n",
    "\n",
    "from sklearn.metrics import confusion_matrix\n",
    "import seaborn as sns\n",
    "MatrixConfusao = confusion_matrix(y2, predicaoTeste)\n",
    "sns.heatmap(MatrixConfusao.T, square=True, annot=True, fmt='d', cbar=False)\n",
    "plt.xlabel('true label')\n",
    "plt.ylabel('predicted label')"
   ]
  },
  {
   "cell_type": "markdown",
   "metadata": {
    "id": "RwiOyPzDp5n1"
   },
   "source": [
    "### K-Folds"
   ]
  },
  {
   "cell_type": "markdown",
   "metadata": {
    "id": "z7Jq61lyGzgr"
   },
   "source": [
    "É possível usar o módulo [`cross_val_score`](https://scikit-learn.org/stable/modules/generated/sklearn.model_selection.cross_val_score.html) do sklearn"
   ]
  },
  {
   "cell_type": "code",
   "execution_count": 28,
   "metadata": {
    "id": "wpGgfQhmG0TI"
   },
   "outputs": [
    {
     "name": "stdout",
     "output_type": "stream",
     "text": [
      "Cross Validation Score: [0.98 0.96 0.98]\n"
     ]
    }
   ],
   "source": [
    "#from sklearn.cross_validation import cross_val_score\n",
    "from sklearn.model_selection import cross_val_score\n",
    "folds = 3\n",
    "# TODO: defina aqui a chamada\n",
    "cross_validation = cross_val_score(model, x, y, cv=folds)\n",
    "print(f'Cross Validation Score: {cross_validation}')"
   ]
  },
  {
   "cell_type": "markdown",
   "metadata": {
    "id": "9jWTwfKqHZ1w"
   },
   "source": [
    "Ou até expandir para executar o K vezes, seguindo um processo manual"
   ]
  },
  {
   "cell_type": "code",
   "execution_count": 29,
   "metadata": {
    "id": "Yj8uCsJiqQ0D"
   },
   "outputs": [
    {
     "name": "stdout",
     "output_type": "stream",
     "text": [
      "Splits:  KFold(n_splits=3, random_state=None, shuffle=True)\n",
      "Tentativa 0 Score 0: 0.98\n",
      "Tentativa 0 Score 1: 0.98\n",
      "Tentativa 0 Score 2: 1.0\n",
      "Splits:  KFold(n_splits=3, random_state=None, shuffle=True)\n",
      "Tentativa 1 Score 0: 0.94\n",
      "Tentativa 1 Score 1: 1.0\n",
      "Tentativa 1 Score 2: 0.96\n",
      "Splits:  KFold(n_splits=3, random_state=None, shuffle=True)\n",
      "Tentativa 2 Score 0: 0.98\n",
      "Tentativa 2 Score 1: 0.98\n",
      "Tentativa 2 Score 2: 0.94\n"
     ]
    }
   ],
   "source": [
    "from sklearn.model_selection import KFold\n",
    "x_times = 3\n",
    "k_folds = 3\n",
    "\n",
    "for k in range(x_times):\n",
    "    splits = KFold(n_splits=k_folds, shuffle=True)\n",
    "    print('Splits: ',splits)\n",
    "    # a chamada .split() retorna os índices que devem ser usados em cada rodada\n",
    "    count1 = 0\n",
    "    for train, test in splits.split(x):\n",
    "        \n",
    "        train_data = x[train]\n",
    "        train_target = y[train]\n",
    "        test_data = x[test]\n",
    "        test_target = y[test]   \n",
    "\n",
    "      # TODO: Treino e avaliação\n",
    "    \n",
    "        model.fit(train_data,train_target)\n",
    "        print(f'Tentativa {k} Score {count1}: {model.score(test_data,test_target)}')\n",
    "        #X1, X2, y1, y2 = x[train], x[test], y[train], y[test]\n",
    "        #model.fit(X1,y1)\n",
    "        #print(f'Second Split Score: {model.score(X2,y2)}')\n",
    "    \n",
    "        count1+=1\n"
   ]
  },
  {
   "cell_type": "markdown",
   "metadata": {
    "id": "ChuSPXSFldTm"
   },
   "source": [
    "# Regressão Linear"
   ]
  },
  {
   "cell_type": "markdown",
   "metadata": {
    "id": "NRdGzAA2KDzN"
   },
   "source": [
    "Geração aleatória de um conjunto de dados simples"
   ]
  },
  {
   "cell_type": "code",
   "execution_count": 30,
   "metadata": {
    "colab": {
     "base_uri": "https://localhost:8080/",
     "height": 265
    },
    "id": "C867WoGeJGsx",
    "outputId": "78076c06-41eb-4d41-8085-9ddc32d2e3b2"
   },
   "outputs": [
    {
     "data": {
      "image/png": "[encoded data removed]",
      "text/plain": [
       "<Figure size 432x288 with 1 Axes>"
      ]
     },
     "metadata": {
      "needs_background": "light"
     },
     "output_type": "display_data"
    }
   ],
   "source": [
    "rng = np.random.RandomState(1)\n",
    "x = 10 * rng.rand(50)\n",
    "y = 2 * x - 5 + rng.randn(50)\n",
    "plt.scatter(x, y);"
   ]
  },
  {
   "cell_type": "markdown",
   "metadata": {
    "id": "E1pcBEE9K1wv"
   },
   "source": [
    "Importação e utilização do módulo [`LinearRegression`](https://scikit-learn.org/stable/modules/generated/sklearn.linear_model.LinearRegression.html)  para fazer um ajuste linear as dados gerados"
   ]
  },
  {
   "cell_type": "code",
   "execution_count": 31,
   "metadata": {
    "colab": {
     "base_uri": "https://localhost:8080/",
     "height": 265
    },
    "id": "ZxQ4CzrdLO_d",
    "outputId": "0c723ea6-059b-45df-e72c-1f78f8ace8fa"
   },
   "outputs": [
    {
     "data": {
      "image/png": "[encoded data removed]",
      "text/plain": [
       "<Figure size 432x288 with 1 Axes>"
      ]
     },
     "metadata": {
      "needs_background": "light"
     },
     "output_type": "display_data"
    }
   ],
   "source": [
    "from sklearn.linear_model import LinearRegression\n",
    "model = LinearRegression(fit_intercept=True)\n",
    "model.fit(x[:, np.newaxis], y)\n",
    "\n",
    "x_fit = np.linspace(0, 10, 1000)\n",
    "y_fit = model.predict(x_fit[:, np.newaxis])\n",
    "\n",
    "plt.scatter(x, y)\n",
    "plt.plot(x_fit, y_fit);"
   ]
  },
  {
   "cell_type": "markdown",
   "metadata": {
    "id": "SVRhp-8bpp16"
   },
   "source": [
    "Agora, considere a implementação da Regressão Linear do zero, sem o uso do `sklearn` ou outra biblioteca de Machine Learninng."
   ]
  },
  {
   "cell_type": "code",
   "execution_count": 32,
   "metadata": {
    "id": "AmAMXsCZpqNf"
   },
   "outputs": [
    {
     "name": "stdout",
     "output_type": "stream",
     "text": [
      "Exemplos de dados: X [4.17022005e+00 7.20324493e+00 1.14374817e-03] Y [ 2.65326739  8.56128423 -5.66895863]\n"
     ]
    },
    {
     "data": {
      "text/html": [
       "<div>\n",
       "<style scoped>\n",
       "    .dataframe tbody tr th:only-of-type {\n",
       "        vertical-align: middle;\n",
       "    }\n",
       "\n",
       "    .dataframe tbody tr th {\n",
       "        vertical-align: top;\n",
       "    }\n",
       "\n",
       "    .dataframe thead th {\n",
       "        text-align: right;\n",
       "    }\n",
       "</style>\n",
       "<table border=\"1\" class=\"dataframe\">\n",
       "  <thead>\n",
       "    <tr style=\"text-align: right;\">\n",
       "      <th></th>\n",
       "      <th>x</th>\n",
       "      <th>y</th>\n",
       "    </tr>\n",
       "  </thead>\n",
       "  <tbody>\n",
       "    <tr>\n",
       "      <th>0</th>\n",
       "      <td>4.170220</td>\n",
       "      <td>2.653267</td>\n",
       "    </tr>\n",
       "    <tr>\n",
       "      <th>1</th>\n",
       "      <td>7.203245</td>\n",
       "      <td>8.561284</td>\n",
       "    </tr>\n",
       "    <tr>\n",
       "      <th>2</th>\n",
       "      <td>0.001144</td>\n",
       "      <td>-5.668959</td>\n",
       "    </tr>\n",
       "    <tr>\n",
       "      <th>3</th>\n",
       "      <td>3.023326</td>\n",
       "      <td>1.033987</td>\n",
       "    </tr>\n",
       "    <tr>\n",
       "      <th>4</th>\n",
       "      <td>1.467559</td>\n",
       "      <td>-3.182193</td>\n",
       "    </tr>\n",
       "  </tbody>\n",
       "</table>\n",
       "</div>"
      ],
      "text/plain": [
       "          x         y\n",
       "0  4.170220  2.653267\n",
       "1  7.203245  8.561284\n",
       "2  0.001144 -5.668959\n",
       "3  3.023326  1.033987\n",
       "4  1.467559 -3.182193"
      ]
     },
     "execution_count": 32,
     "metadata": {},
     "output_type": "execute_result"
    }
   ],
   "source": [
    "# TODO:\n",
    "# formula da regressão linear y = m*x + b \n",
    "# y - valor a predizer/target\n",
    "# m - slope a descobrir?\n",
    "# x - variaveis independentes/data/features\n",
    "# b - bias a descobrir?\n",
    "\n",
    "import pandas as pd\n",
    "print(f'Exemplos de dados: X {x[:3]} Y {y[:3]}')\n",
    "# Criando um dataframe de dados x - y\n",
    "df = pd.DataFrame({'x':x, 'y':y})\n",
    "df.head()"
   ]
  },
  {
   "cell_type": "code",
   "execution_count": 33,
   "metadata": {},
   "outputs": [
    {
     "data": {
      "text/plain": [
       "<matplotlib.collections.PathCollection at 0x7f2ffd022c40>"
      ]
     },
     "execution_count": 33,
     "metadata": {},
     "output_type": "execute_result"
    },
    {
     "data": {
      "image/png": "[encoded data removed]",
      "text/plain": [
       "<Figure size 432x288 with 1 Axes>"
      ]
     },
     "metadata": {
      "needs_background": "light"
     },
     "output_type": "display_data"
    }
   ],
   "source": [
    "plt.scatter(df['x'],df['y'])"
   ]
  },
  {
   "cell_type": "code",
   "execution_count": 34,
   "metadata": {},
   "outputs": [
    {
     "data": {
      "text/html": [
       "<div>\n",
       "<style scoped>\n",
       "    .dataframe tbody tr th:only-of-type {\n",
       "        vertical-align: middle;\n",
       "    }\n",
       "\n",
       "    .dataframe tbody tr th {\n",
       "        vertical-align: top;\n",
       "    }\n",
       "\n",
       "    .dataframe thead th {\n",
       "        text-align: right;\n",
       "    }\n",
       "</style>\n",
       "<table border=\"1\" class=\"dataframe\">\n",
       "  <thead>\n",
       "    <tr style=\"text-align: right;\">\n",
       "      <th></th>\n",
       "      <th>x</th>\n",
       "      <th>y</th>\n",
       "      <th>Diferenca x - xMedia</th>\n",
       "      <th>Quadrado da Diferenca X</th>\n",
       "      <th>Diferenca Y - yMedia</th>\n",
       "    </tr>\n",
       "  </thead>\n",
       "  <tbody>\n",
       "    <tr>\n",
       "      <th>0</th>\n",
       "      <td>4.170220</td>\n",
       "      <td>2.653267</td>\n",
       "      <td>0.499536</td>\n",
       "      <td>0.249536</td>\n",
       "      <td>1.814726</td>\n",
       "    </tr>\n",
       "    <tr>\n",
       "      <th>1</th>\n",
       "      <td>7.203245</td>\n",
       "      <td>8.561284</td>\n",
       "      <td>-2.533489</td>\n",
       "      <td>6.418566</td>\n",
       "      <td>-4.093291</td>\n",
       "    </tr>\n",
       "    <tr>\n",
       "      <th>2</th>\n",
       "      <td>0.001144</td>\n",
       "      <td>-5.668959</td>\n",
       "      <td>4.668612</td>\n",
       "      <td>21.795940</td>\n",
       "      <td>10.136952</td>\n",
       "    </tr>\n",
       "    <tr>\n",
       "      <th>3</th>\n",
       "      <td>3.023326</td>\n",
       "      <td>1.033987</td>\n",
       "      <td>1.646430</td>\n",
       "      <td>2.710733</td>\n",
       "      <td>3.434007</td>\n",
       "    </tr>\n",
       "    <tr>\n",
       "      <th>4</th>\n",
       "      <td>1.467559</td>\n",
       "      <td>-3.182193</td>\n",
       "      <td>3.202197</td>\n",
       "      <td>10.254066</td>\n",
       "      <td>7.650186</td>\n",
       "    </tr>\n",
       "  </tbody>\n",
       "</table>\n",
       "</div>"
      ],
      "text/plain": [
       "          x         y  Diferenca x - xMedia  Quadrado da Diferenca X  \\\n",
       "0  4.170220  2.653267              0.499536                 0.249536   \n",
       "1  7.203245  8.561284             -2.533489                 6.418566   \n",
       "2  0.001144 -5.668959              4.668612                21.795940   \n",
       "3  3.023326  1.033987              1.646430                 2.710733   \n",
       "4  1.467559 -3.182193              3.202197                10.254066   \n",
       "\n",
       "   Diferenca Y - yMedia  \n",
       "0              1.814726  \n",
       "1             -4.093291  \n",
       "2             10.136952  \n",
       "3              3.434007  \n",
       "4              7.650186  "
      ]
     },
     "execution_count": 34,
     "metadata": {},
     "output_type": "execute_result"
    }
   ],
   "source": [
    "# valores necessarios para calcular o slope e o intercept\n",
    "\n",
    "# media das variaveis independentes\n",
    "xmean = df['x'].mean()\n",
    "\n",
    "# diferencça entre os valores e a media\n",
    "df['Diferenca x - xMedia'] = xmean - df['x']\n",
    "\n",
    "# diferença entre os valoers e a media, ao quadrado\n",
    "df['Quadrado da Diferenca X'] = df['Diferenca x - xMedia']**2\n",
    "\n",
    "# somatorio dessa difenreça ao quadrado\n",
    "somatorioX = df['Quadrado da Diferenca X'].sum()\n",
    "\n",
    "# media do target\n",
    "ymean = df['y'].mean()\n",
    "\n",
    "# diferenca entre os valores do target e sua media\n",
    "df['Diferenca Y - yMedia'] = ymean - df['y']\n",
    "\n",
    "# somatorio do produto das diferenças\n",
    "somatorioProdutoDiferencas = (df['Diferenca x - xMedia']*df['Diferenca Y - yMedia']).sum()\n",
    "df.head()"
   ]
  },
  {
   "cell_type": "code",
   "execution_count": 35,
   "metadata": {},
   "outputs": [
    {
     "name": "stdout",
     "output_type": "stream",
     "text": [
      "slope Valor: 2.0272088103606962\n",
      "Intercept: -4.998577085553209\n"
     ]
    }
   ],
   "source": [
    "slope = somatorioProdutoDiferencas/somatorioX\n",
    "print(f'slope Valor: {slope}')\n",
    "intercept = ymean - slope*xmean\n",
    "print(f'Intercept: {intercept}')"
   ]
  },
  {
   "cell_type": "code",
   "execution_count": 36,
   "metadata": {},
   "outputs": [
    {
     "data": {
      "text/plain": [
       "[<matplotlib.lines.Line2D at 0x7f2ffed896d0>]"
      ]
     },
     "execution_count": 36,
     "metadata": {},
     "output_type": "execute_result"
    },
    {
     "data": {
      "image/png": "[encoded data removed]",
      "text/plain": [
       "<Figure size 432x288 with 1 Axes>"
      ]
     },
     "metadata": {
      "needs_background": "light"
     },
     "output_type": "display_data"
    }
   ],
   "source": [
    "linhaPredicao = slope*df['x'] + intercept\n",
    "plt.scatter(df['x'],df['y'])\n",
    "plt.plot(df['x'],linhaPredicao, 'r')"
   ]
  },
  {
   "cell_type": "markdown",
   "metadata": {
    "id": "BsAbmEhLm2Ua"
   },
   "source": [
    "# Máquinas de Vetores de Suporte"
   ]
  },
  {
   "cell_type": "markdown",
   "metadata": {
    "id": "pP8X5GGfNTrB"
   },
   "source": [
    "Geração de dados iniciais"
   ]
  },
  {
   "cell_type": "code",
   "execution_count": 37,
   "metadata": {
    "colab": {
     "base_uri": "https://localhost:8080/",
     "height": 282
    },
    "id": "PS4k0qBcNTMS",
    "outputId": "b6b93856-6937-435d-9607-490dea6845c9"
   },
   "outputs": [
    {
     "name": "stdout",
     "output_type": "stream",
     "text": [
      "(50, 2) (50,)\n"
     ]
    },
    {
     "data": {
      "text/plain": [
       "<matplotlib.collections.PathCollection at 0x7f2ffd0b7ac0>"
      ]
     },
     "execution_count": 37,
     "metadata": {},
     "output_type": "execute_result"
    },
    {
     "data": {
      "image/png": "[encoded data removed]",
      "text/plain": [
       "<Figure size 432x288 with 1 Axes>"
      ]
     },
     "metadata": {
      "needs_background": "light"
     },
     "output_type": "display_data"
    }
   ],
   "source": [
    "#from sklearn.datasets.samples_generator import make_blobs\n",
    "from sklearn.datasets import make_blobs\n",
    "X, y = make_blobs(n_samples=50, centers=2, random_state=0, cluster_std=0.60)\n",
    "print(X.shape,y.shape)\n",
    "plt.scatter(X[:, 0], X[:, 1], c=y, s=50, cmap='autumn')"
   ]
  },
  {
   "cell_type": "markdown",
   "metadata": {
    "id": "WQ7dwOd1NAk1"
   },
   "source": [
    "Para definir o modelo, podemos usar módule [`SVC (Support Vector Classifier)`](https://scikit-learn.org/stable/modules/generated/sklearn.svm.SVC.html) do [`sklearn.svm`](https://scikit-learn.org/stable/modules/svm.html#:~:text=Support%20vector%20machines%20(SVMs)%20are,than%20the%20number%20of%20samples.)"
   ]
  },
  {
   "cell_type": "code",
   "execution_count": 38,
   "metadata": {
    "id": "fPm0JO6mL10m"
   },
   "outputs": [],
   "source": [
    "from sklearn.svm import SVC"
   ]
  },
  {
   "cell_type": "markdown",
   "metadata": {
    "id": "1q4XUyKKNsAm"
   },
   "source": [
    "Com teste inicial, podemos treinar e avaliar um modelo com um kernel linear"
   ]
  },
  {
   "cell_type": "code",
   "execution_count": 39,
   "metadata": {
    "id": "aqC5OJSaOMAt"
   },
   "outputs": [
    {
     "name": "stdout",
     "output_type": "stream",
     "text": [
      "1.0\n"
     ]
    }
   ],
   "source": [
    "# TODO: separação dos dados X, y\n",
    "X_train, X_test, y_train, y_test = train_test_split(X,y,test_size=0.3)\n",
    "\n",
    "model = SVC(kernel='linear')\n",
    "model.fit(X_train, y_train)\n",
    "print(metrics.accuracy_score(model.predict(X_test), y_test))"
   ]
  },
  {
   "cell_type": "markdown",
   "metadata": {
    "id": "jxYeHbdVPIMV"
   },
   "source": [
    "E para problemas não lineares?"
   ]
  },
  {
   "cell_type": "markdown",
   "metadata": {
    "id": "3XCfoBIqQM5t"
   },
   "source": [
    "Geração de dados"
   ]
  },
  {
   "cell_type": "code",
   "execution_count": 41,
   "metadata": {
    "colab": {
     "base_uri": "https://localhost:8080/",
     "height": 282
    },
    "id": "DV2xP4-CPIir",
    "outputId": "b0efd318-0119-4e91-fc9d-90a4a3602587"
   },
   "outputs": [
    {
     "data": {
      "text/plain": [
       "<matplotlib.collections.PathCollection at 0x7f2ffd13ad60>"
      ]
     },
     "execution_count": 41,
     "metadata": {},
     "output_type": "execute_result"
    },
    {
     "data": {
      "image/png": "[encoded data removed]",
      "text/plain": [
       "<Figure size 432x288 with 1 Axes>"
      ]
     },
     "metadata": {
      "needs_background": "light"
     },
     "output_type": "display_data"
    }
   ],
   "source": [
    "#from sklearn.datasets.samples_generator import make_circles\n",
    "from sklearn.datasets import make_circles\n",
    "X, y = make_circles(100, factor=.1, noise=.1)\n",
    "\n",
    "plt.scatter(X[:, 0], X[:, 1], c=y, s=50, cmap='autumn')"
   ]
  },
  {
   "cell_type": "code",
   "execution_count": 42,
   "metadata": {},
   "outputs": [
    {
     "data": {
      "image/png": "[encoded data removed]",
      "text/plain": [
       "<Figure size 432x288 with 1 Axes>"
      ]
     },
     "metadata": {
      "needs_background": "light"
     },
     "output_type": "display_data"
    }
   ],
   "source": [
    "from matplotlib import pyplot\n",
    "from mpl_toolkits.mplot3d import Axes3D\n",
    "import random\n",
    "\n",
    "\n",
    "fig = plt.figure()\n",
    "ax = fig.add_subplot(projection='3d')\n",
    "\n",
    "eixoX0 = []\n",
    "eixoX1 = []\n",
    "for value in X:\n",
    "    eixoX0.append(value[0])\n",
    "    eixoX1.append(value[1])\n",
    "\n",
    "\n",
    "ax.scatter(eixoX0, eixoX1,y)\n",
    "\n",
    "ax.set_xlabel('X Label')\n",
    "ax.set_ylabel('Y Label')\n",
    "ax.set_zlabel('Z Label')\n",
    "\n",
    "plt.show()"
   ]
  },
  {
   "cell_type": "markdown",
   "metadata": {
    "id": "A9buYKzGQgP6"
   },
   "source": [
    "A partir da visualização anterior dos dados, encontre a melhor configuração para um modelo `SVM` (lembrem-se do `truque do kernel` -- variem este parâmetro [`rbf`, `poly`, `sigmoid`, etc]). Para isso, façam testes paramétricos e avaliem o resultado obtido.\n",
    "\n",
    "Dica: é possível plotar os vetores de suporte para entender o comportamento após treinamento. Vejam o `model.support_vectors`"
   ]
  },
  {
   "cell_type": "code",
   "execution_count": 45,
   "metadata": {
    "id": "V4hxIWqIQgw3"
   },
   "outputs": [
    {
     "name": "stdout",
     "output_type": "stream",
     "text": [
      "0.5666666666666667\n"
     ]
    },
    {
     "data": {
      "text/plain": [
       "[<matplotlib.lines.Line2D at 0x7f2ff6b7d7f0>,\n",
       " <matplotlib.lines.Line2D at 0x7f2ff6b7d820>]"
      ]
     },
     "execution_count": 45,
     "metadata": {},
     "output_type": "execute_result"
    },
    {
     "data": {
      "image/png": "[encoded data removed]",
      "text/plain": [
       "<Figure size 432x288 with 1 Axes>"
      ]
     },
     "metadata": {
      "needs_background": "light"
     },
     "output_type": "display_data"
    }
   ],
   "source": [
    "# TODO: \n",
    "# [`rbf`, `poly`, `sigmoid`, etc]\n",
    "\n",
    "# Usar o pipeline/grid search para testar diferentes kernels\n",
    "\n",
    "X_train, X_test, y_train, y_test = train_test_split(X,y,test_size=0.3)\n",
    "\n",
    "kernels = ['rbf','poly','sigmoid','linear']\n",
    "model1 = SVC(kernel='rbf')\n",
    "model1.fit(X_train, y_train)\n",
    "print(metrics.accuracy_score(model.predict(X_test), y_test))\n",
    "\n",
    "plt.plot(X,y)\n"
   ]
  },
  {
   "cell_type": "code",
   "execution_count": 59,
   "metadata": {},
   "outputs": [
    {
     "name": "stdout",
     "output_type": "stream",
     "text": [
      "Score: 1.0\n"
     ]
    }
   ],
   "source": [
    "from sklearn.pipeline import Pipeline\n",
    "from sklearn.preprocessing import PolynomialFeatures\n",
    "from sklearn.preprocessing import StandardScaler\n",
    "from sklearn.svm import LinearSVC\n",
    "\n",
    "polynomial_svm_clf = Pipeline([\n",
    "    (\"poly_features\", PolynomialFeatures(degree=3)),\n",
    "    (\"scaler\", StandardScaler()),\n",
    "    (\"svm_clf\", SVC())\n",
    "    ])\n",
    "polynomial_svm_clf.fit(X_train, y_train)\n",
    "predPolySVM = polynomial_svm_clf.predict(X_test)\n",
    "\n",
    "print(f'Score: {accuracy_score(y_test, predPolySVM)}')\n"
   ]
  },
  {
   "cell_type": "code",
   "execution_count": 64,
   "metadata": {},
   "outputs": [
    {
     "name": "stdout",
     "output_type": "stream",
     "text": [
      "Score: 1.0\n"
     ]
    }
   ],
   "source": [
    "from sklearn.svm import SVC\n",
    "poly_kernel_svm_clf = Pipeline([\n",
    "    (\"scaler\", StandardScaler()),\n",
    "    (\"svm_clf\", SVC(kernel=\"rbf\", degree=3, coef0=1, C=1))\n",
    "    ])\n",
    "poly_kernel_svm_clf.fit(X_train ,y_train)\n",
    "predPolySVMKernel = poly_kernel_svm_clf.predict(X_test)\n",
    "\n",
    "print(f'Score: {accuracy_score(y_test, predPolySVMKernel)}')\n"
   ]
  },
  {
   "cell_type": "markdown",
   "metadata": {
    "id": "FZKT9RpaQSHF"
   },
   "source": [
    "# Árvores de decisão: classificação de dígitos"
   ]
  },
  {
   "cell_type": "markdown",
   "metadata": {
    "id": "A9F-Np1TSBkQ"
   },
   "source": [
    "Carregamento dos dados"
   ]
  },
  {
   "cell_type": "code",
   "execution_count": 46,
   "metadata": {
    "id": "0EzUpTMCSAfg"
   },
   "outputs": [],
   "source": [
    "from sklearn.datasets import load_digits\n",
    "digits = load_digits()"
   ]
  },
  {
   "cell_type": "code",
   "execution_count": 47,
   "metadata": {
    "id": "tAE0O_XWSQa-"
   },
   "outputs": [
    {
     "name": "stdout",
     "output_type": "stream",
     "text": [
      "ACC TRAINING: 1.0\n",
      "ACC TEST: 0.8444444444444444\n",
      "##################################################\n",
      "Outras Metricas\n",
      "              precision    recall  f1-score   support\n",
      "\n",
      "           0       0.98      0.96      0.97        52\n",
      "           1       0.76      0.74      0.75        53\n",
      "           2       0.80      0.85      0.83        62\n",
      "           3       0.90      0.78      0.84        60\n",
      "           4       0.82      0.81      0.81        57\n",
      "           5       0.94      0.88      0.91        58\n",
      "           6       0.94      0.96      0.95        52\n",
      "           7       0.87      0.83      0.85        48\n",
      "           8       0.77      0.76      0.76        45\n",
      "           9       0.69      0.87      0.77        53\n",
      "\n",
      "    accuracy                           0.84       540\n",
      "   macro avg       0.85      0.84      0.84       540\n",
      "weighted avg       0.85      0.84      0.85       540\n",
      "\n",
      "##################################################\n"
     ]
    },
    {
     "data": {
      "image/png": "[encoded data removed]",
      "text/plain": [
       "<Figure size 432x288 with 1 Axes>"
      ]
     },
     "metadata": {
      "needs_background": "light"
     },
     "output_type": "display_data"
    }
   ],
   "source": [
    "# TODO: façam a separação dos dados utilizando um conjunto holdout 70/30\n",
    "Xtrain, Xtest, ytrain, ytest = train_test_split(digits.data,digits.target,test_size=0.3)\n",
    "\n",
    "# TODO: treinem o modelo\n",
    "from sklearn.tree import DecisionTreeClassifier\n",
    "\n",
    "modelDecisionTree = DecisionTreeClassifier()\n",
    "modelDecisionTree.fit(Xtrain,ytrain)\n",
    "\n",
    "# TODO: avaliem o resultado\n",
    "\n",
    "# Predizer valores apartir das features de teste/train\n",
    "predicaoTreeTrain = modelDecisionTree.predict(Xtrain)\n",
    "predicaoTreeTeste = modelDecisionTree.predict(Xtest)\n",
    "\n",
    "# Calcular acuracia com a função score\n",
    "# acuraciaTreeTrain = modelDecisionTree.score(Xtrain,ytrain)\n",
    "# acuraciaTreeTeste = modelDecisionTree.score(Xtest,ytest)\n",
    "\n",
    "# Accuracia no treinamento e no teste\n",
    "#print(f\"ACC TRAINING: {acuraciaTreeTrain}\")\n",
    "#print(f\"ACC TEST: {acuraciaTreeTeste}\")\n",
    "\n",
    "# Calcular acuracia apartir das predições com a função accuracy_score\n",
    "acc_train = accuracy_score(ytrain, predicaoTreeTrain)\n",
    "acc_test = accuracy_score(ytest, predicaoTreeTeste)\n",
    "\n",
    "\n",
    "# Accuracia no treinamento e no teste\n",
    "print(f\"ACC TRAINING: {acc_train}\")\n",
    "print(f\"ACC TEST: {acc_test}\")\n",
    "print('#'*50)\n",
    "\n",
    "# Outras metricas\n",
    "from sklearn.metrics import classification_report\n",
    "print(f\"Outras Metricas\")\n",
    "print(classification_report(ytest, predicaoTreeTeste))\n",
    "print('#'*50)\n",
    "\n",
    "from sklearn.metrics import confusion_matrix\n",
    "import seaborn as sns\n",
    "MatrixConfusao = confusion_matrix(ytest, predicaoTreeTeste)\n",
    "sns.heatmap(MatrixConfusao.T, square=True, annot=True, fmt='d', cbar=False)\n",
    "plt.xlabel('true label')\n",
    "plt.ylabel('predicted label');"
   ]
  },
  {
   "cell_type": "markdown",
   "metadata": {
    "id": "TYvuKtX3h9hE"
   },
   "source": [
    "# Ensemble"
   ]
  },
  {
   "cell_type": "markdown",
   "metadata": {
    "id": "fpt0dxQRiAa3"
   },
   "source": [
    "Escolha pelo menos 2 modelos discutidos para fazer um ensemble utilizando o mesmo conjunto de dados do exemplo anterior"
   ]
  },
  {
   "cell_type": "code",
   "execution_count": 50,
   "metadata": {
    "id": "S2Yqgcu_iA7p"
   },
   "outputs": [
    {
     "name": "stdout",
     "output_type": "stream",
     "text": [
      "Ensemble\n",
      "Voting Classifier Hard Score: 0.9796296296296296\n",
      "Voting Classifier Soft Score: 0.9888888888888889\n",
      "##################################################\n",
      "Sem Ensemble\n",
      "RandomForestClassifier Score 0.9666666666666667\n",
      "SVC Score 0.9833333333333333\n"
     ]
    }
   ],
   "source": [
    "# TODO:\n",
    "from sklearn.datasets import load_digits\n",
    "\n",
    "\n",
    "from sklearn.ensemble import RandomForestClassifier\n",
    "from sklearn.ensemble import VotingClassifier\n",
    "from sklearn.svm import SVC\n",
    "\n",
    "digits = load_digits()\n",
    "\n",
    "Xtrain, Xtest, ytrain, ytest = train_test_split(digits.data,digits.target,test_size=0.3)\n",
    "\n",
    "#log_clf = LogisticRegression()\n",
    "rnd_clf = RandomForestClassifier()\n",
    "svm_clf = SVC(probability=True)\n",
    "#dt_clf = DecisionTreeClassifier()\n",
    "\n",
    "voting_clf = VotingClassifier(\n",
    "estimators=[('rf', rnd_clf), ('svc', svm_clf)],\n",
    "voting='hard')\n",
    "\n",
    "voting_clf2 = VotingClassifier(\n",
    "estimators=[('rf', rnd_clf), ('svc', svm_clf)],\n",
    "voting='soft')\n",
    "\n",
    "voting_clf.fit(Xtrain, ytrain)\n",
    "voting_clf2.fit(Xtrain,ytrain)\n",
    "\n",
    "pred = voting_clf.predict(Xtest)\n",
    "pred2 = voting_clf2.predict(Xtest)\n",
    "\n",
    "print('Ensemble')\n",
    "print(f'Voting Classifier Hard Score: {accuracy_score(ytest,pred)}')\n",
    "print(f'Voting Classifier Soft Score: {accuracy_score(ytest,pred2)}')\n",
    "\n",
    "print('#'*50)\n",
    "print('Sem Ensemble')\n",
    "classifiers = [rnd_clf,svm_clf]\n",
    "\n",
    "for clf in classifiers:\n",
    "\n",
    "    clf.fit(Xtrain, ytrain)\n",
    "\n",
    "    y_pred = clf.predict(Xtest)\n",
    "\n",
    "    print(clf.__class__.__name__,'Score', accuracy_score(ytest, y_pred))\n",
    "\n",
    "\n"
   ]
  }
 ],
 "metadata": {
  "colab": {
   "collapsed_sections": [],
   "name": "atividade1.ipynb",
   "provenance": []
  },
  "interpreter": {
   "hash": "caf41d7b08f9c998ada65f8ec7fd76b4a433a2b93f0adc9b9e232b55e3911f7d"
  },
  "kernelspec": {
   "display_name": "Python 3.8.10 64-bit ('myvenv': venv)",
   "name": "python3"
  },
  "language_info": {
   "codemirror_mode": {
    "name": "ipython",
    "version": 3
   },
   "file_extension": ".py",
   "mimetype": "text/x-python",
   "name": "python",
   "nbconvert_exporter": "python",
   "pygments_lexer": "ipython3",
   "version": "3.8.10"
  }
 },
 "nbformat": 4,
 "nbformat_minor": 1
}

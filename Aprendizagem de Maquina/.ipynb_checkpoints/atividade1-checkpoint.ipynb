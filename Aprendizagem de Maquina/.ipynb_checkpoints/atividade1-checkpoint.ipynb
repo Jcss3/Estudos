{
 "cells": [
  {
   "cell_type": "markdown",
   "metadata": {
    "id": "IzO5Zko7ivDZ"
   },
   "source": [
    "# Instruções Gerais\n",
    "\n",
    "*   A atividade é **individual**. Cópias e plágios não serão tolerados. Caso seja identificado, **nota zero** será atribuída à todos os envolvidos.\n",
    "*   Data de entrega: **21/10/2021, até as 23:59h**\n",
    "\n",
    "  * Apenas pelo **Classroom**\n",
    "  * Façam uma cópia do notebook, e trabalhem nela para a entrega até o prazo definido\n",
    "  * **Atentem para todos os pontos de `# TODO:`**, pois estes são os pontos de implementação\n",
    "* Sobre política de atrasos: \n",
    "  * cada aluno terá a **tolerância de 2 dias de atraso, considerado todos os exercícios** propostos. \n",
    "  * A partir do terceiro dia, 60% da nota obtida será computada. \n",
    "  * Do quarto dia em diante, não será atribuída nota alguma.\n",
    "\n"
   ]
  },
  {
   "cell_type": "markdown",
   "metadata": {
    "id": "w7nx5rTPTClR"
   },
   "source": [
    "# Imports iniciais"
   ]
  },
  {
   "cell_type": "code",
   "execution_count": 5,
   "metadata": {
    "id": "_M9ho_SjKNat"
   },
   "outputs": [],
   "source": [
    "%matplotlib inline\n",
    "import matplotlib.pyplot as plt\n",
    "import numpy as np\n",
    "from sklearn import metrics"
   ]
  },
  {
   "cell_type": "markdown",
   "metadata": {
    "id": "bh-8EdhtENPh"
   },
   "source": [
    "# Definição de um model simples para testes usando sklearn"
   ]
  },
  {
   "cell_type": "code",
   "execution_count": 6,
   "metadata": {
    "id": "B7zz6iS8EUOk"
   },
   "outputs": [],
   "source": [
    "from sklearn.neighbors import KNeighborsClassifier\n",
    "model = KNeighborsClassifier(n_neighbors=3)"
   ]
  },
  {
   "cell_type": "markdown",
   "metadata": {
    "id": "Bx64mbsTpc4d"
   },
   "source": [
    "# Carregando e Divisão de Dados"
   ]
  },
  {
   "cell_type": "code",
   "execution_count": 7,
   "metadata": {
    "id": "HxCyVPOqj6kK"
   },
   "outputs": [],
   "source": [
    "from sklearn.datasets import load_iris\n",
    "iris = load_iris()\n",
    "x = iris.data\n",
    "y = iris.target"
   ]
  },
  {
   "cell_type": "markdown",
   "metadata": {
    "id": "Dn8yxkXCp5NY"
   },
   "source": [
    "## Validação cruzada"
   ]
  },
  {
   "cell_type": "markdown",
   "metadata": {
    "id": "qjOzdgFVDetm"
   },
   "source": [
    "### Holdout"
   ]
  },
  {
   "cell_type": "code",
   "execution_count": 93,
   "metadata": {
    "id": "MI7YbfvEqQRI"
   },
   "outputs": [
    {
     "name": "stdout",
     "output_type": "stream",
     "text": [
      "##################################################\n",
      "Exemplos de Dados\n",
      "##################################################\n",
      "X1 - Train Features: \n",
      " [[5.1 3.5 1.4 0.2]\n",
      " [6.6 3.  4.4 1.4]\n",
      " [6.4 2.9 4.3 1.3]]\n",
      "X1 - Shape (Linhas X Colunas): (105, 4)\n",
      "##################################################\n",
      "y1 - Train Target: \n",
      " [0 1 1]\n",
      "y1 - Shape (Linhas X Colunas): (105,)\n",
      "##################################################\n",
      "X2 - Test Features: \n",
      " [[5.5 4.2 1.4 0.2]\n",
      " [5.  2.3 3.3 1. ]\n",
      " [5.1 3.8 1.5 0.3]]\n",
      "X2 - Shape (Linhas X Colunas): (45, 4)\n",
      "##################################################\n",
      "y2 - Test Target: \n",
      " [0 1 0]\n",
      "y2 - Shape (Linhas X Colunas): (45,)\n",
      "##################################################\n",
      "ACC TRAINING: 0.9714285714285714\n",
      "ACC TEST: 0.9555555555555556\n",
      "##################################################\n",
      "ACC TRAINING: 0.9714285714285714\n",
      "ACC TEST: 0.9555555555555556\n",
      "##################################################\n",
      "Outras Metricas\n",
      "              precision    recall  f1-score   support\n",
      "\n",
      "           0       1.00      1.00      1.00        17\n",
      "           1       0.93      0.93      0.93        15\n",
      "           2       0.92      0.92      0.92        13\n",
      "\n",
      "    accuracy                           0.96        45\n",
      "   macro avg       0.95      0.95      0.95        45\n",
      "weighted avg       0.96      0.96      0.96        45\n",
      "\n",
      "##################################################\n"
     ]
    },
    {
     "data": {
      "image/png": "[encoded data removed]",
      "text/plain": [
       "<Figure size 432x288 with 1 Axes>"
      ]
     },
     "metadata": {
      "needs_background": "light"
     },
     "output_type": "display_data"
    }
   ],
   "source": [
    "# defina a separação dos dados (X, y) utilizando 70% para treino e 30% para teste\n",
    "from sklearn.model_selection import train_test_split\n",
    "from sklearn.metrics import accuracy_score\n",
    "\n",
    "# Separando os dados em teste/train holding out 30% = 0.3 of the data for testing\n",
    "X1, X2, y1, y2 = train_test_split(x,y,test_size=0.3) # TODO\n",
    "\n",
    "# vizualizar amostras dos dados\n",
    "print('#'*50)\n",
    "print('Exemplos de Dados')\n",
    "print('#'*50)\n",
    "print('X1 - Train Features: \\n',X1[:3])\n",
    "print(f'X1 - Shape (Linhas X Colunas): {X1.shape}')\n",
    "print('#'*50)\n",
    "print('y1 - Train Target: \\n',y1[:3])\n",
    "print(f'y1 - Shape (Linhas X Colunas): {y1.shape}')\n",
    "print('#'*50)\n",
    "print('X2 - Test Features: \\n',X2[:3])\n",
    "print(f'X2 - Shape (Linhas X Colunas): {X2.shape}')\n",
    "print('#'*50)\n",
    "print('y2 - Test Target: \\n',y2[:3])\n",
    "print(f'y2 - Shape (Linhas X Colunas): {y2.shape}')\n",
    "print('#'*50)\n",
    "\n",
    "# TODO: treine e avalie o modelo com os dados separados\n",
    "\n",
    "# treine com os valores de treinameto\n",
    "model.fit(X1,y1)\n",
    "\n",
    "# Predizer valores apartir das features de teste/train\n",
    "predicaoTrain = model.predict(X1)\n",
    "predicaoTeste = model.predict(X2)\n",
    "\n",
    "# Calcular acuracia com a função score\n",
    "acuraciaTrain = model.score(X1,y1)\n",
    "acuraciaTeste = model.score(X2,y2)\n",
    "# Accuracia no treinamento e no teste\n",
    "print(f\"ACC TRAINING: {acuraciaTrain}\")\n",
    "print(f\"ACC TEST: {acuraciaTeste}\")\n",
    "\n",
    "# Calcular acuracia apartir das predições com a função accuracy_score\n",
    "acc_train = accuracy_score(y1, predicaoTrain)\n",
    "acc_test = accuracy_score(y2, predicaoTeste)\n",
    "print('#'*50)\n",
    "\n",
    "# Accuracia no treinamento e no teste\n",
    "print(f\"ACC TRAINING: {acc_train}\")\n",
    "print(f\"ACC TEST: {acc_test}\")\n",
    "print('#'*50)\n",
    "\n",
    "# Outras metricas\n",
    "from sklearn.metrics import classification_report\n",
    "print(f\"Outras Metricas\")\n",
    "print(classification_report(y2, predicaoTeste))\n",
    "print('#'*50)\n",
    "\n",
    "from sklearn.metrics import confusion_matrix\n",
    "import seaborn as sns\n",
    "MatrixConfusao = confusion_matrix(y2, predicaoTeste)\n",
    "sns.heatmap(MatrixConfusao.T, square=True, annot=True, fmt='d', cbar=False)\n",
    "plt.xlabel('true label')\n",
    "plt.ylabel('predicted label');"
   ]
  },
  {
   "cell_type": "markdown",
   "metadata": {
    "id": "RwiOyPzDp5n1"
   },
   "source": [
    "### K-Folds"
   ]
  },
  {
   "cell_type": "markdown",
   "metadata": {
    "id": "z7Jq61lyGzgr"
   },
   "source": [
    "É possível usar o módulo [`cross_val_score`](https://scikit-learn.org/stable/modules/generated/sklearn.model_selection.cross_val_score.html) do sklearn"
   ]
  },
  {
   "cell_type": "code",
   "execution_count": 94,
   "metadata": {
    "id": "wpGgfQhmG0TI"
   },
   "outputs": [
    {
     "name": "stdout",
     "output_type": "stream",
     "text": [
      "Cross Validation Score: [0.98 0.96 0.98]\n"
     ]
    }
   ],
   "source": [
    "#from sklearn.cross_validation import cross_val_score\n",
    "from sklearn.model_selection import cross_val_score\n",
    "folds = 3\n",
    "# TODO: defina aqui a chamada\n",
    "cross_validation = cross_val_score(model, x, y, cv=folds)\n",
    "print(f'Cross Validation Score: {cross_validation}')"
   ]
  },
  {
   "cell_type": "markdown",
   "metadata": {
    "id": "9jWTwfKqHZ1w"
   },
   "source": [
    "Ou até expandir para executar o K vezes, seguindo um processo manual"
   ]
  },
  {
   "cell_type": "code",
   "execution_count": 95,
   "metadata": {
    "id": "Yj8uCsJiqQ0D"
   },
   "outputs": [
    {
     "name": "stdout",
     "output_type": "stream",
     "text": [
      "Splits:  KFold(n_splits=3, random_state=None, shuffle=True)\n",
      "Score: 0.96\n",
      "Score: 0.96\n",
      "Score: 0.94\n",
      "Splits:  KFold(n_splits=3, random_state=None, shuffle=True)\n",
      "Score: 0.98\n",
      "Score: 0.98\n",
      "Score: 0.96\n",
      "Splits:  KFold(n_splits=3, random_state=None, shuffle=True)\n",
      "Score: 1.0\n",
      "Score: 0.94\n",
      "Score: 0.94\n"
     ]
    }
   ],
   "source": [
    "from sklearn.model_selection import KFold\n",
    "x_times = 3\n",
    "k_folds = 3\n",
    "\n",
    "for k in range(x_times):\n",
    "    splits = KFold(n_splits=k_folds, shuffle=True)\n",
    "    print('Splits: ',splits)\n",
    "    # a chamada .split() retorna os índices que devem ser usados em cada rodada\n",
    "    for train, test in splits.split(x):\n",
    "        \n",
    "        train_data = x[train]\n",
    "        train_target = y[train]\n",
    "        test_data = x[test]\n",
    "        test_target = y[test]   \n",
    "\n",
    "      # TODO: Treino e avaliação\n",
    "    \n",
    "        model.fit(train_data,train_target)\n",
    "        print(f'Score: {model.score(test_data,test_target)}')\n",
    "        #X1, X2, y1, y2 = x[train], x[test], y[train], y[test]\n",
    "        #model.fit(X1,y1)\n",
    "        #print(f'Second Split Score: {model.score(X2,y2)}')\n"
   ]
  },
  {
   "cell_type": "markdown",
   "metadata": {
    "id": "ChuSPXSFldTm"
   },
   "source": [
    "# Regressão Linear"
   ]
  },
  {
   "cell_type": "markdown",
   "metadata": {
    "id": "NRdGzAA2KDzN"
   },
   "source": [
    "Geração aleatória de um conjunto de dados simples"
   ]
  },
  {
   "cell_type": "code",
   "execution_count": 96,
   "metadata": {
    "colab": {
     "base_uri": "https://localhost:8080/",
     "height": 265
    },
    "id": "C867WoGeJGsx",
    "outputId": "78076c06-41eb-4d41-8085-9ddc32d2e3b2"
   },
   "outputs": [
    {
     "data": {
      "image/png": "[encoded data removed]",
      "text/plain": [
       "<Figure size 432x288 with 1 Axes>"
      ]
     },
     "metadata": {
      "needs_background": "light"
     },
     "output_type": "display_data"
    }
   ],
   "source": [
    "rng = np.random.RandomState(1)\n",
    "x = 10 * rng.rand(50)\n",
    "y = 2 * x - 5 + rng.randn(50)\n",
    "plt.scatter(x, y);"
   ]
  },
  {
   "cell_type": "markdown",
   "metadata": {
    "id": "E1pcBEE9K1wv"
   },
   "source": [
    "Importação e utilização do módulo [`LinearRegression`](https://scikit-learn.org/stable/modules/generated/sklearn.linear_model.LinearRegression.html)  para fazer um ajuste linear as dados gerados"
   ]
  },
  {
   "cell_type": "code",
   "execution_count": 97,
   "metadata": {
    "colab": {
     "base_uri": "https://localhost:8080/",
     "height": 265
    },
    "id": "ZxQ4CzrdLO_d",
    "outputId": "0c723ea6-059b-45df-e72c-1f78f8ace8fa"
   },
   "outputs": [
    {
     "data": {
      "image/png": "[encoded data removed]",
      "text/plain": [
       "<Figure size 432x288 with 1 Axes>"
      ]
     },
     "metadata": {
      "needs_background": "light"
     },
     "output_type": "display_data"
    }
   ],
   "source": [
    "from sklearn.linear_model import LinearRegression\n",
    "model = LinearRegression(fit_intercept=True)\n",
    "model.fit(x[:, np.newaxis], y)\n",
    "\n",
    "x_fit = np.linspace(0, 10, 1000)\n",
    "y_fit = model.predict(x_fit[:, np.newaxis])\n",
    "\n",
    "plt.scatter(x, y)\n",
    "plt.plot(x_fit, y_fit);"
   ]
  },
  {
   "cell_type": "markdown",
   "metadata": {
    "id": "SVRhp-8bpp16"
   },
   "source": [
    "Agora, considere a implementação da Regressão Linear do zero, sem o uso do `sklearn` ou outra biblioteca de Machine Learninng."
   ]
  },
  {
   "cell_type": "code",
   "execution_count": null,
   "metadata": {
    "id": "AmAMXsCZpqNf"
   },
   "outputs": [],
   "source": [
    "# TODO:"
   ]
  },
  {
   "cell_type": "markdown",
   "metadata": {
    "id": "BsAbmEhLm2Ua"
   },
   "source": [
    "# Máquinas de Vetores de Suporte"
   ]
  },
  {
   "cell_type": "markdown",
   "metadata": {
    "id": "pP8X5GGfNTrB"
   },
   "source": [
    "Geração de dados iniciais"
   ]
  },
  {
   "cell_type": "code",
   "execution_count": 103,
   "metadata": {
    "colab": {
     "base_uri": "https://localhost:8080/",
     "height": 282
    },
    "id": "PS4k0qBcNTMS",
    "outputId": "b6b93856-6937-435d-9607-490dea6845c9"
   },
   "outputs": [
    {
     "name": "stdout",
     "output_type": "stream",
     "text": [
      "(50, 2) (50,)\n"
     ]
    },
    {
     "data": {
      "text/plain": [
       "<matplotlib.collections.PathCollection at 0x121d760ec18>"
      ]
     },
     "execution_count": 103,
     "metadata": {},
     "output_type": "execute_result"
    },
    {
     "data": {
      "image/png": "[encoded data removed]",
      "text/plain": [
       "<Figure size 432x288 with 1 Axes>"
      ]
     },
     "metadata": {
      "needs_background": "light"
     },
     "output_type": "display_data"
    }
   ],
   "source": [
    "#from sklearn.datasets.samples_generator import make_blobs\n",
    "from sklearn.datasets import make_blobs\n",
    "X, y = make_blobs(n_samples=50, centers=2, random_state=0, cluster_std=0.60)\n",
    "print(X.shape,y.shape)\n",
    "plt.scatter(X[:, 0], X[:, 1], c=y, s=50, cmap='autumn')"
   ]
  },
  {
   "cell_type": "markdown",
   "metadata": {
    "id": "WQ7dwOd1NAk1"
   },
   "source": [
    "Para definir o modelo, podemos usar módule [`SVC (Support Vector Classifier)`](https://scikit-learn.org/stable/modules/generated/sklearn.svm.SVC.html) do [`sklearn.svm`](https://scikit-learn.org/stable/modules/svm.html#:~:text=Support%20vector%20machines%20(SVMs)%20are,than%20the%20number%20of%20samples.)"
   ]
  },
  {
   "cell_type": "code",
   "execution_count": 100,
   "metadata": {
    "id": "fPm0JO6mL10m"
   },
   "outputs": [],
   "source": [
    "from sklearn.svm import SVC"
   ]
  },
  {
   "cell_type": "markdown",
   "metadata": {
    "id": "1q4XUyKKNsAm"
   },
   "source": [
    "Com teste inicial, podemos treinar e avaliar um modelo com um kernel linear"
   ]
  },
  {
   "cell_type": "code",
   "execution_count": 107,
   "metadata": {
    "id": "aqC5OJSaOMAt"
   },
   "outputs": [
    {
     "name": "stdout",
     "output_type": "stream",
     "text": [
      "1.0\n"
     ]
    }
   ],
   "source": [
    "# TODO: separação dos dados X, y\n",
    "X_train, X_test, y_train, y_test = train_test_split(X,y,test_size=0.3)\n",
    "\n",
    "model = SVC(kernel='linear')\n",
    "model.fit(X_train, y_train)\n",
    "print(metrics.accuracy_score(model.predict(X_test), y_test))"
   ]
  },
  {
   "cell_type": "markdown",
   "metadata": {
    "id": "jxYeHbdVPIMV"
   },
   "source": [
    "E para problemas não lineares?"
   ]
  },
  {
   "cell_type": "markdown",
   "metadata": {
    "id": "3XCfoBIqQM5t"
   },
   "source": [
    "Geração de dados"
   ]
  },
  {
   "cell_type": "code",
   "execution_count": 108,
   "metadata": {
    "colab": {
     "base_uri": "https://localhost:8080/",
     "height": 282
    },
    "id": "DV2xP4-CPIir",
    "outputId": "b0efd318-0119-4e91-fc9d-90a4a3602587"
   },
   "outputs": [
    {
     "data": {
      "text/plain": [
       "<matplotlib.collections.PathCollection at 0x121d7670dd8>"
      ]
     },
     "execution_count": 108,
     "metadata": {},
     "output_type": "execute_result"
    },
    {
     "data": {
      "image/png": "[encoded data removed]",
      "text/plain": [
       "<Figure size 432x288 with 1 Axes>"
      ]
     },
     "metadata": {
      "needs_background": "light"
     },
     "output_type": "display_data"
    }
   ],
   "source": [
    "#from sklearn.datasets.samples_generator import make_circles\n",
    "from sklearn.datasets import make_circles\n",
    "X, y = make_circles(100, factor=.1, noise=.1)\n",
    "\n",
    "plt.scatter(X[:, 0], X[:, 1], c=y, s=50, cmap='autumn')"
   ]
  },
  {
   "cell_type": "markdown",
   "metadata": {
    "id": "A9buYKzGQgP6"
   },
   "source": [
    "A partir da visualização anterior dos dados, encontre a melhor configuração para um modelo `SVM` (lembrem-se do `truque do kernel` -- variem este parâmetro [`rbf`, `poly`, `sigmoid`, etc]). Para isso, façam testes paramétricos e avaliem o resultado obtido.\n",
    "\n",
    "Dica: é possível plotar os vetores de suporte para entender o comportamento após treinamento. Vejam o `model.support_vectors`"
   ]
  },
  {
   "cell_type": "code",
   "execution_count": null,
   "metadata": {
    "id": "V4hxIWqIQgw3"
   },
   "outputs": [],
   "source": [
    "# TODO: "
   ]
  },
  {
   "cell_type": "markdown",
   "metadata": {
    "id": "FZKT9RpaQSHF"
   },
   "source": [
    "# Árvores de decisão: classificação de dígitos"
   ]
  },
  {
   "cell_type": "markdown",
   "metadata": {
    "id": "A9F-Np1TSBkQ"
   },
   "source": [
    "Carregamento dos dados"
   ]
  },
  {
   "cell_type": "code",
   "execution_count": 109,
   "metadata": {
    "id": "0EzUpTMCSAfg"
   },
   "outputs": [],
   "source": [
    "from sklearn.datasets import load_digits\n",
    "digits = load_digits()"
   ]
  },
  {
   "cell_type": "code",
   "execution_count": 114,
   "metadata": {
    "id": "tAE0O_XWSQa-"
   },
   "outputs": [
    {
     "name": "stdout",
     "output_type": "stream",
     "text": [
      "ACC TRAINING: 1.0\n",
      "ACC TEST: 0.825925925925926\n",
      "##################################################\n",
      "ACC TRAINING: 1.0\n",
      "ACC TEST: 0.825925925925926\n",
      "##################################################\n",
      "Outras Metricas\n",
      "              precision    recall  f1-score   support\n",
      "\n",
      "           0       0.95      0.88      0.92        43\n",
      "           1       0.89      0.69      0.78        58\n",
      "           2       0.81      0.76      0.79        55\n",
      "           3       0.88      0.79      0.83        56\n",
      "           4       0.87      0.74      0.80        65\n",
      "           5       0.80      0.91      0.85        53\n",
      "           6       0.93      0.89      0.91        57\n",
      "           7       0.70      0.94      0.80        51\n",
      "           8       0.71      0.92      0.80        48\n",
      "           9       0.83      0.80      0.81        54\n",
      "\n",
      "    accuracy                           0.83       540\n",
      "   macro avg       0.84      0.83      0.83       540\n",
      "weighted avg       0.84      0.83      0.83       540\n",
      "\n",
      "##################################################\n"
     ]
    },
    {
     "data": {
      "image/png": "[encoded data removed]",
      "text/plain": [
       "<Figure size 432x288 with 1 Axes>"
      ]
     },
     "metadata": {
      "needs_background": "light"
     },
     "output_type": "display_data"
    }
   ],
   "source": [
    "# TODO: façam a separação dos dados utilizando um conjunto holdout 70/30\n",
    "Xtrain, Xtest, ytrain, ytest = train_test_split(digits.data,digits.target,test_size=0.3)\n",
    "\n",
    "# TODO: treinem o modelo\n",
    "from sklearn.tree import DecisionTreeClassifier\n",
    "\n",
    "modelDecisionTree = DecisionTreeClassifier()\n",
    "modelDecisionTree.fit(Xtrain,ytrain)\n",
    "\n",
    "# TODO: avaliem o resultado\n",
    "\n",
    "# Predizer valores apartir das features de teste/train\n",
    "predicaoTreeTrain = modelDecisionTree.predict(Xtrain)\n",
    "predicaoTreeTeste = modelDecisionTree.predict(Xtest)\n",
    "\n",
    "# Calcular acuracia com a função score\n",
    "acuraciaTreeTrain = modelDecisionTree.score(Xtrain,ytrain)\n",
    "acuraciaTreeTeste = modelDecisionTree.score(Xtest,ytest)\n",
    "\n",
    "# Accuracia no treinamento e no teste\n",
    "print(f\"ACC TRAINING: {acuraciaTreeTrain}\")\n",
    "print(f\"ACC TEST: {acuraciaTreeTeste}\")\n",
    "\n",
    "# Calcular acuracia apartir das predições com a função accuracy_score\n",
    "acc_train = accuracy_score(ytrain, predicaoTreeTrain)\n",
    "acc_test = accuracy_score(ytest, predicaoTreeTeste)\n",
    "print('#'*50)\n",
    "\n",
    "# Accuracia no treinamento e no teste\n",
    "print(f\"ACC TRAINING: {acc_train}\")\n",
    "print(f\"ACC TEST: {acc_test}\")\n",
    "print('#'*50)\n",
    "\n",
    "# Outras metricas\n",
    "from sklearn.metrics import classification_report\n",
    "print(f\"Outras Metricas\")\n",
    "print(classification_report(ytest, predicaoTreeTeste))\n",
    "print('#'*50)\n",
    "\n",
    "from sklearn.metrics import confusion_matrix\n",
    "import seaborn as sns\n",
    "MatrixConfusao = confusion_matrix(ytest, predicaoTreeTeste)\n",
    "sns.heatmap(MatrixConfusao.T, square=True, annot=True, fmt='d', cbar=False)\n",
    "plt.xlabel('true label')\n",
    "plt.ylabel('predicted label');"
   ]
  },
  {
   "cell_type": "markdown",
   "metadata": {
    "id": "TYvuKtX3h9hE"
   },
   "source": [
    "# Ensemble"
   ]
  },
  {
   "cell_type": "markdown",
   "metadata": {
    "id": "fpt0dxQRiAa3"
   },
   "source": [
    "Escolha pelo menos 2 modelos discutidos para fazer um ensemble utilizando o mesmo conjunto de dados do exemplo anterior"
   ]
  },
  {
   "cell_type": "code",
   "execution_count": null,
   "metadata": {
    "id": "S2Yqgcu_iA7p"
   },
   "outputs": [],
   "source": [
    "# TODO:"
   ]
  }
 ],
 "metadata": {
  "colab": {
   "collapsed_sections": [],
   "name": "atividade1.ipynb",
   "provenance": []
  },
  "kernelspec": {
   "display_name": "Python 3",
   "language": "python",
   "name": "python3"
  },
  "language_info": {
   "codemirror_mode": {
    "name": "ipython",
    "version": 3
   },
   "file_extension": ".py",
   "mimetype": "text/x-python",
   "name": "python",
   "nbconvert_exporter": "python",
   "pygments_lexer": "ipython3",
   "version": "3.7.3"
  }
 },
 "nbformat": 4,
 "nbformat_minor": 1
}

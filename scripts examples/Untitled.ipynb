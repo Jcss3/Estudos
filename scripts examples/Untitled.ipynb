{
 "cells": [
  {
   "cell_type": "code",
   "execution_count": 1,
   "metadata": {},
   "outputs": [],
   "source": [
    "import re"
   ]
  },
  {
   "cell_type": "code",
   "execution_count": 14,
   "metadata": {},
   "outputs": [
    {
     "name": "stdout",
     "output_type": "stream",
     "text": [
      "None  -  Não é um mac!\n",
      "<built-in method group of re.Match object at 0x000001D5FF3DDBE8>  -  as:54:f4:H7 É um mac!\n",
      "None  -  Não é um mac!\n",
      "<built-in method group of re.Match object at 0x000001D5FF3DDBE8>  -  A3:7H:9O:OK É um mac!\n"
     ]
    }
   ],
   "source": [
    "macRegex = '^([0-9a-zA-Z]{2}:[0-9a-zA-Z]{2}:[0-9a-zA-Z]{2}:[0-9a-zA-Z]{2})$'\n",
    "\n",
    "#x = re.search(macRegex, txt)\n",
    "entradas = ['As:hut:G5:34','as:54:f4:H7','As:hu:G5:34v','A3:7H:9O:OK']\n",
    "for entrada in entradas:\n",
    "    x = re.search(macRegex, entrada)\n",
    "    if x != None:\n",
    "        print(x.group,' - ','{} É um mac!'.format(x.string))\n",
    "    else:\n",
    "        print(x,' - ','Não é um mac!')    "
   ]
  },
  {
   "cell_type": "code",
   "execution_count": 16,
   "metadata": {},
   "outputs": [
    {
     "name": "stdout",
     "output_type": "stream",
     "text": [
      "re.compile('^([0-9a-zA-Z]{2}:[0-9a-zA-Z]{2}:[0-9a-zA-Z]{2}:[0-9a-zA-Z]{2})$')  -  Não é um mac!\n",
      "re.compile('^([0-9a-zA-Z]{2}:[0-9a-zA-Z]{2}:[0-9a-zA-Z]{2}:[0-9a-zA-Z]{2})$')\n",
      "re.compile('^([0-9a-zA-Z]{2}:[0-9a-zA-Z]{2}:[0-9a-zA-Z]{2}:[0-9a-zA-Z]{2})$')  -  Não é um mac!\n",
      "re.compile('^([0-9a-zA-Z]{2}:[0-9a-zA-Z]{2}:[0-9a-zA-Z]{2}:[0-9a-zA-Z]{2})$')\n"
     ]
    }
   ],
   "source": [
    "for entrada in entradas:\n",
    "    x = re.compile(macRegex)\n",
    "    if x.match(entrada):\n",
    "        print(x)\n",
    "    else:\n",
    "        print(x,' - ','Não é um mac!')"
   ]
  },
  {
   "cell_type": "code",
   "execution_count": null,
   "metadata": {},
   "outputs": [],
   "source": []
  }
 ],
 "metadata": {
  "kernelspec": {
   "display_name": "Python 3",
   "language": "python",
   "name": "python3"
  },
  "language_info": {
   "codemirror_mode": {
    "name": "ipython",
    "version": 3
   },
   "file_extension": ".py",
   "mimetype": "text/x-python",
   "name": "python",
   "nbconvert_exporter": "python",
   "pygments_lexer": "ipython3",
   "version": "3.7.3"
  }
 },
 "nbformat": 4,
 "nbformat_minor": 2
}
